{
 "cells": [
  {
   "cell_type": "markdown",
   "id": "f1cb1bf3-c3e2-425b-bab1-96070af737d8",
   "metadata": {},
   "source": [
    "# Word Embedding of 10th Circut Court Opinions\n",
    "    Keira Richards- University of Colorado, Denver"
   ]
  },
  {
   "cell_type": "markdown",
   "id": "ec9633c8-fe7f-427f-9dc8-ce89b2108f20",
   "metadata": {},
   "source": [
    "### Methodology"
   ]
  },
  {
   "cell_type": "markdown",
   "id": "f973d221-ac7a-46ec-a466-10f5e27cb749",
   "metadata": {},
   "source": [
    "The United States Court of Appeals for the Tenth Circuit is the appelate federal court for for the states of Colorado, Kansas, New Mexico, Utah, Oklahoma and Wyoming. I've chosen to analyze these opinions as a view into the sentiments of the second highest court in Colorado and to see how it differs from embeddings of the Supreme Court\n",
    "\n",
    "The opinons arefr om [Court Listener](https://www.courtlistener.com), a Free Law Project...project. [Free Law Project](https://free.law) is a data/software oriented nonprofit seeking to \"make the legal ecosystem more equitable and competitive.\" The [Court Listener API](https://www.courtlistener.com/api/) allows for bulk dowloads of court proceedings including arguments and opinions from each Circuit Court and the Supreme Court. I found the Court Listener API this [this tutorial](https://github.com/idc9/word_embed_tutorial) which creates a word embedding with Supreme Court opinions.\n",
    "\n",
    "The data set is 56194 JSON files of court opinions from the 10th circuit court. Each file is one opinion on one case. The cases are chornological, but the numbered files arent, alluding to possible missing cases. it begins with 95.json from march 13, 2010 and ends with 6216474.json from Febuary 8, 2022. The data does not go as far back as the Supreme Court opinions available on Court Listiner, but will lend itself well to analyzing change over the last decade."
   ]
  },
  {
   "cell_type": "code",
   "execution_count": 3,
   "id": "9acfd304-34ac-4562-b866-77a2daa5b7ba",
   "metadata": {},
   "outputs": [
    {
     "name": "stderr",
     "output_type": "stream",
     "text": [
      "/opt/anaconda3/lib/python3.8/site-packages/gensim/similarities/__init__.py:15: UserWarning: The gensim.similarities.levenshtein submodule is disabled, because the optional Levenshtein package <https://pypi.org/project/python-Levenshtein/> is unavailable. Install Levenhstein (e.g. `pip install python-Levenshtein`) to suppress this warning.\n",
      "  warnings.warn(msg)\n"
     ]
    }
   ],
   "source": [
    "import os\n",
    "import io\n",
    "import string\n",
    "import tqdm\n",
    "import numpy as np\n",
    "import sys\n",
    "import re\n",
    "import random\n",
    "from gensim.models import Word2Vec, KeyedVectors\n",
    "from gensim.similarities import Similarity\n",
    "from gensim.models.phrases import Phraser, Phrases\n",
    "import gensim"
   ]
  },
  {
   "cell_type": "markdown",
   "id": "38e98bb5-7bf5-40f6-a0fc-3b00c3a4df22",
   "metadata": {},
   "source": [
    "My model was only trainned on 5,000 random files due to hardware limitations, but this should still be enough to visualize the sentiments of the court. The model erroneously recognized the metadata of the JSON files which i plan to recifiy in later versions."
   ]
  },
  {
   "cell_type": "code",
   "execution_count": 4,
   "id": "b8de62f3-7785-4240-bb13-7f5fe2d9db39",
   "metadata": {},
   "outputs": [],
   "source": [
    "model=gensim.models.KeyedVectors.load_word2vec_format(\"ca10model.bin\", binary=True)"
   ]
  },
  {
   "cell_type": "markdown",
   "id": "71338772-b5ef-424c-a83a-600373cb89e5",
   "metadata": {},
   "source": [
    "To begin to get an idea for 10th circuit sentiments, I put in some common political jargon"
   ]
  },
  {
   "cell_type": "code",
   "execution_count": 31,
   "id": "2366d9a4-03bc-48b2-83b2-1c85587cf52f",
   "metadata": {},
   "outputs": [
    {
     "data": {
      "text/plain": [
       "[('obligation', 0.8176979422569275),\n",
       " ('legal_obligation', 0.6650003790855408),\n",
       " ('affirmative_duty', 0.6591303944587708),\n",
       " ('power', 0.6556466221809387),\n",
       " ('legal_duty', 0.6342571973800659),\n",
       " ('refusal', 0.6192611455917358),\n",
       " ('promise', 0.617901623249054),\n",
       " ('intention', 0.6046798825263977),\n",
       " ('authority', 0.6019030213356018),\n",
       " ('duties', 0.5943748354911804)]"
      ]
     },
     "execution_count": 31,
     "metadata": {},
     "output_type": "execute_result"
    }
   ],
   "source": [
    "model.most_similar(\"duty\")"
   ]
  },
  {
   "cell_type": "code",
   "execution_count": 6,
   "id": "0dd9dd3d-68ff-431a-847b-148eedbd9d90",
   "metadata": {},
   "outputs": [
    {
     "data": {
      "text/plain": [
       "[('federal', 0.7436718344688416),\n",
       " ('tribal', 0.7030956745147705),\n",
       " ('State', 0.6512160897254944),\n",
       " ('county', 0.6399028301239014),\n",
       " ('military', 0.582913339138031),\n",
       " ('municipal', 0.5628710389137268),\n",
       " ('state_law', 0.5480576157569885),\n",
       " ('juvenile', 0.503242552280426),\n",
       " ('prison', 0.5029860734939575),\n",
       " ('competent_jurisdiction', 0.49854838848114014)]"
      ]
     },
     "execution_count": 6,
     "metadata": {},
     "output_type": "execute_result"
    }
   ],
   "source": [
    "model.most_similar(\"state\")"
   ]
  },
  {
   "cell_type": "code",
   "execution_count": 7,
   "id": "2bb68b83-4546-41a9-a0a8-8f64898c7a68",
   "metadata": {},
   "outputs": [
    {
     "data": {
      "text/plain": [
       "[(\"consumers'\", 0.6437810659408569),\n",
       " ('commonlaw_right', 0.6404505968093872),\n",
       " ('Leathaâ\\x80\\x99s_shares', 0.6353196501731873),\n",
       " ('placement_construction', 0.6248644590377808),\n",
       " ('capability', 0.6189494132995605),\n",
       " ('scarce_judicial_resources', 0.618840754032135),\n",
       " ('interestsâ\\x80\\x9d', 0.6142489314079285),\n",
       " ('harmony', 0.6125048995018005),\n",
       " ('exclusive_authority', 0.611504077911377),\n",
       " ('franchises', 0.6080130934715271)]"
      ]
     },
     "execution_count": 7,
     "metadata": {},
     "output_type": "execute_result"
    }
   ],
   "source": [
    "model.most_similar(\"autonomy\")"
   ]
  },
  {
   "cell_type": "code",
   "execution_count": 12,
   "id": "c143b03a-55a7-4f60-8d45-04a042fc494a",
   "metadata": {},
   "outputs": [
    {
     "data": {
      "text/plain": [
       "[('commercial', 0.7312663793563843),\n",
       " ('financial', 0.6954485177993774),\n",
       " ('housing', 0.6910195350646973),\n",
       " ('equipment', 0.6891607046127319),\n",
       " ('storage', 0.6866706609725952),\n",
       " ('market', 0.6848353743553162),\n",
       " ('financing', 0.6825789213180542),\n",
       " ('food', 0.6779769659042358),\n",
       " ('operating', 0.6743307113647461),\n",
       " ('investment', 0.6705516576766968)]"
      ]
     },
     "execution_count": 12,
     "metadata": {},
     "output_type": "execute_result"
    }
   ],
   "source": [
    "model.most_similar(\"security\")"
   ]
  },
  {
   "cell_type": "markdown",
   "id": "1ee05da8-a563-4787-9f3e-536e1541748e",
   "metadata": {},
   "source": [
    "Some of these associations are clear and obvious. 'Duty' and obligation, 'state' and 'federal'...words one would expect to be related. However, some less obvious relationships stood out. For example, the association of 'tribal' and 'state' is interesting and likely stronger in the 10th circuit than other court systems due to the number of native reservations in the area. Also, the correlation of 'housing' and 'security' is intriguing, as the American government does not consider housing a right to the best of my knowledge **what kind of housing security cases were they looking at?**\n",
    "    \n",
    "The focus of economics was also striking. 'Commercial' and 'security' are the highest correlation, possibly pointing to many cases on business interests (and possibly a few about security guards). For 'Autonomy' I was expecting words pertaining to individual rights, instead the highest correlation is 'consumers'. Let's look a bit deeper into consumer security....\n"
   ]
  },
  {
   "cell_type": "code",
   "execution_count": 36,
   "id": "59f0e700-a3c1-4182-b47d-6da357ffbbb3",
   "metadata": {},
   "outputs": [
    {
     "data": {
      "text/plain": [
       "[('pollutants', 0.7137232422828674),\n",
       " ('competitive', 0.6902402639389038),\n",
       " ('conservation', 0.680314302444458),\n",
       " ('\\\\right', 0.6708946228027344),\n",
       " ('political', 0.6703660488128662),\n",
       " ('monopoly', 0.661037802696228),\n",
       " ('political_parties', 0.6534027457237244),\n",
       " ('utility', 0.6530541777610779),\n",
       " ('commercial', 0.6517835855484009),\n",
       " ('environment', 0.6466688513755798)]"
      ]
     },
     "execution_count": 36,
     "metadata": {},
     "output_type": "execute_result"
    }
   ],
   "source": [
    "model.most_similar(positive=[\"consumer\",\"autonomy\"])"
   ]
  },
  {
   "cell_type": "markdown",
   "id": "7dcabb16-1add-4713-8a56-bbf2039da422",
   "metadata": {},
   "source": [
    "Not sure what I was expecting, but it wasn't 'Pollutants' or 'conservation'. I think this points to an environmental protectionist ideology of the 10th circuit court, or at least a good portion of cases pretraining to environmental protection. **how does environmental protection relate to consumer autonomy??**"
   ]
  },
  {
   "cell_type": "code",
   "execution_count": 37,
   "id": "6aa44f05-2452-4feb-b2ec-e9e834805c6f",
   "metadata": {},
   "outputs": [
    {
     "data": {
      "text/plain": [
       "[('regulating', 0.638451874256134),\n",
       " ('teaching', 0.6196387410163879),\n",
       " ('conservation', 0.5918653607368469),\n",
       " ('functions', 0.5888144969940186),\n",
       " ('governmental', 0.5821440815925598),\n",
       " ('performing', 0.5770695805549622),\n",
       " ('tribal_selfgovernment', 0.5715588331222534),\n",
       " ('daytoday', 0.568727970123291),\n",
       " ('international', 0.5685784816741943),\n",
       " ('aimed_at', 0.5679572820663452)]"
      ]
     },
     "execution_count": 37,
     "metadata": {},
     "output_type": "execute_result"
    }
   ],
   "source": [
    "model.most_similar(\"abortion\")"
   ]
  },
  {
   "cell_type": "code",
   "execution_count": 39,
   "id": "98bc045f-38d0-41cb-9864-2dcb269af990",
   "metadata": {},
   "outputs": [
    {
     "data": {
      "text/plain": [
       "[('man', 0.8402585983276367),\n",
       " ('friend', 0.8204723596572876),\n",
       " ('passenger', 0.8114058971405029),\n",
       " ('girl', 0.8037137389183044),\n",
       " ('neighbor', 0.797197699546814),\n",
       " ('nurse', 0.7881025671958923),\n",
       " ('rental_car', 0.7803377509117126),\n",
       " ('man_who', 0.7735366821289062),\n",
       " ('boy', 0.7638214826583862),\n",
       " ('her_father', 0.7615417838096619)]"
      ]
     },
     "execution_count": 39,
     "metadata": {},
     "output_type": "execute_result"
    }
   ],
   "source": [
    "model.most_similar(\"woman\")"
   ]
  },
  {
   "cell_type": "code",
   "execution_count": 62,
   "id": "3a8ad85d-1d2a-41ab-9c31-2619e48b2671",
   "metadata": {},
   "outputs": [
    {
     "data": {
      "text/plain": [
       "[('woman', 0.8402586579322815),\n",
       " ('driver', 0.7768806219100952),\n",
       " ('girl', 0.7757141590118408),\n",
       " ('lot', 0.7640547752380371),\n",
       " ('passenger', 0.7632373571395874),\n",
       " ('someone', 0.7618067860603333),\n",
       " ('suspect', 0.7565501928329468),\n",
       " ('friend', 0.7449239492416382),\n",
       " ('bomb', 0.743765652179718),\n",
       " ('boy', 0.739574134349823)]"
      ]
     },
     "execution_count": 62,
     "metadata": {},
     "output_type": "execute_result"
    }
   ],
   "source": [
    "model.most_similar(\"man\")"
   ]
  },
  {
   "cell_type": "code",
   "execution_count": 42,
   "id": "284353ad-bda0-4aa2-8992-65f8b0ea307f",
   "metadata": {},
   "outputs": [
    {
     "data": {
      "text/plain": [
       "[('\\\\egregious', 0.4411745071411133),\n",
       " ('shown\\\\', 0.4398689270019531),\n",
       " ('unsubstantiated', 0.4283992648124695),\n",
       " ('extrajudicial', 0.42744091153144836),\n",
       " ('speculative\\\\', 0.40712136030197144),\n",
       " ('practices\\\\', 0.4051051437854767),\n",
       " ('disproportionate_impact', 0.4039613604545593),\n",
       " ('noninfringement', 0.39435338973999023),\n",
       " ('ineffectiveâ\\x80\\x9d', 0.3925777077674866),\n",
       " ('association\\\\', 0.39242303371429443)]"
      ]
     },
     "execution_count": 42,
     "metadata": {},
     "output_type": "execute_result"
    }
   ],
   "source": [
    "model.most_similar(positive=[\"women\"],negative=[\"men\"])"
   ]
  },
  {
   "cell_type": "markdown",
   "id": "983cd491-77ce-441e-b526-3cc06ab77141",
   "metadata": {},
   "source": [
    "I felt looking at some political hot buttons would really illuminate the views of the court. There’s a lot of legislative terms around 'abortion', probably emblematic of the continuing battle on abortion rights. It is interesting that ‘tribal self-governance' makes an appearance, **maybe there was a case in which abortion laws on the reservation differed from the state.** 'women' and 'nurse' could point to a high number of female nurses or sexism depending on the cases and your viewpoint (rental car is just odd, as is the link between 'man' and 'bomb').\n",
    "\n",
    "When we look at 'women' isolated from 'man', there is a lot of doubting terms like 'unsubstantiated', 'speculative' mixed with terms of magnitude like 'disproportionate impact' and 'egregious'. These terms seem to indicate women as victims and/or doubting victim testimony, a relationship i did not expect to find in such a modern dataset.\n"
   ]
  },
  {
   "cell_type": "code",
   "execution_count": 43,
   "id": "91b9c68f-a9c0-4189-83c9-e9abf8f54471",
   "metadata": {},
   "outputs": [
    {
     "data": {
      "text/plain": [
       "[('national_origin', 0.8153603076934814),\n",
       " ('gender', 0.8118056058883667),\n",
       " ('political_opinion', 0.7024502754211426),\n",
       " ('discrimination', 0.6937640905380249),\n",
       " ('sex', 0.6844298243522644),\n",
       " ('illness', 0.6839743256568909),\n",
       " ('race_color', 0.6773388981819153),\n",
       " ('race_color_religion_sex', 0.6557826399803162),\n",
       " ('harassment', 0.6508350968360901),\n",
       " ('persecution', 0.6488223671913147)]"
      ]
     },
     "execution_count": 43,
     "metadata": {},
     "output_type": "execute_result"
    }
   ],
   "source": [
    "model.most_similar(\"race\")"
   ]
  },
  {
   "cell_type": "code",
   "execution_count": 60,
   "id": "1b1c485d-fdde-4ce5-8966-277c0f897c70",
   "metadata": {},
   "outputs": [
    {
     "data": {
      "text/plain": [
       "[('national_origin', 0.8013886213302612),\n",
       " ('gender', 0.7701539397239685),\n",
       " ('race_color', 0.6503126621246338),\n",
       " ('discrimination', 0.6262590289115906),\n",
       " ('political_opinion', 0.6239770650863647),\n",
       " ('illness', 0.6233958005905151),\n",
       " ('sex_national', 0.6198543906211853),\n",
       " ('harassment', 0.6167808175086975),\n",
       " ('retaliation', 0.6125229597091675),\n",
       " ('her_gender', 0.6078314185142517)]"
      ]
     },
     "execution_count": 60,
     "metadata": {},
     "output_type": "execute_result"
    }
   ],
   "source": [
    "model.most_similar(positive=[\"black\",\"race\"],negative=['white'])"
   ]
  },
  {
   "cell_type": "code",
   "execution_count": null,
   "id": "eedee426-99e5-4881-aefb-054e18fdd3b5",
   "metadata": {},
   "outputs": [],
   "source": []
  }
 ],
 "metadata": {
  "kernelspec": {
   "display_name": "Python 3",
   "language": "python",
   "name": "python3"
  },
  "language_info": {
   "codemirror_mode": {
    "name": "ipython",
    "version": 3
   },
   "file_extension": ".py",
   "mimetype": "text/x-python",
   "name": "python",
   "nbconvert_exporter": "python",
   "pygments_lexer": "ipython3",
   "version": "3.8.8"
  }
 },
 "nbformat": 4,
 "nbformat_minor": 5
}
