{
 "cells": [
  {
   "cell_type": "markdown",
   "id": "a86f19f6-e08b-48b9-aaff-25dba96295fb",
   "metadata": {},
   "source": [
    "## 10th Circuit Court Opinion Data Bibliography"
   ]
  },
  {
   "cell_type": "markdown",
   "id": "013143e6-d0e6-40e0-abfd-d6cde4e9eb05",
   "metadata": {},
   "source": [
    "#### Overview"
   ]
  },
  {
   "cell_type": "markdown",
   "id": "aa7cf9be-0406-44b2-82fd-e3dec4f8ee68",
   "metadata": {},
   "source": [
    "The data is  from [Court Listener](https://www.courtlistener.com), a Free Law Project...project. [Free Law Project](https://free.law) is a data/software oriented nonprofit seeking to \"make the legal ecosystem more equitable and competitive.\" The [Court Listener API](https://www.courtlistener.com/api/) allows for bulk dowloads of court proceedings including arguments and opinions from each Circuit Court and the Supreme Court. I found the Court Listener API this [this tutorial](https://github.com/idc9/word_embed_tutorial) which creates a word embedding with Supreme Court opinions."
   ]
  },
  {
   "cell_type": "markdown",
   "id": "3ea3b631-7a19-40a8-b15c-244a57ba8979",
   "metadata": {},
   "source": [
    "Note: put the opinions from [here](https://www.courtlistener.com/api/bulk-data/opinions/ca10.tar.gz) in the same directory and name directory 'ca10'"
   ]
  },
  {
   "cell_type": "markdown",
   "id": "b1d5dfeb-abe7-4799-9dac-352ad74aab18",
   "metadata": {},
   "source": [
    "### Contents"
   ]
  },
  {
   "cell_type": "code",
   "execution_count": 4,
   "id": "34724dfc-f310-4306-978e-d3bbf71ed620",
   "metadata": {},
   "outputs": [
    {
     "data": {
      "text/plain": [
       "56194"
      ]
     },
     "execution_count": 4,
     "metadata": {},
     "output_type": "execute_result"
    }
   ],
   "source": [
    "import glob\n",
    "import os\n",
    "json_files = glob.glob('/Users/keira.richards/E_DHML/embed/ca10/*' + \"*.json\")\n",
    "len(json_files)"
   ]
  },
  {
   "cell_type": "markdown",
   "id": "23529b7b-13a3-41cb-85f1-cc651af5d064",
   "metadata": {},
   "source": [
    "The data set is 56194 JSON files of court opinions from the 10th circuit court. Each file is one opinion on one case. The cases are chornological, but the numbered files arent, alluding to possible missing cases. it begins with 95.json from march 13, 2010 and ends with 6216474.json from Febuary 8, 2022. The data does not go as far back as the Supreme Court opinions available on Court Listiner, but will lend itself well to analyzing change over the last decade. I'm going to read in the first file to look at the contents qualitatively "
   ]
  },
  {
   "cell_type": "code",
   "execution_count": 5,
   "id": "aa57b683-7a9f-4703-be6e-16b539b4b81a",
   "metadata": {},
   "outputs": [
    {
     "data": {
      "text/plain": [
       "'{\\n  \"resource_uri\": \"https://www.courtlistener.com/api/rest/v3/opinions/95/\",\\n  \"id\": 95,\\n  \"absolute_url\": \"/opinion/95/united-states-v-frownfelter/\",\\n  \"cluster\": \"https://www.courtlistener.com/api/rest/v3/clusters/95/\",\\n  \"author\": null,\\n  \"joined_by\": [],\\n  \"author_str\": \"\",\\n  \"per_curiam\": false,\\n  \"joined_by_str\": \"\",\\n  \"date_created\": \"2010-03-13T23:59:33Z\",\\n  \"date_modified\": \"2020-03-02T19:53:50.186931Z\",\\n  \"type\": \"010combined\",\\n  \"sha1\": \"ee78eebf5c1aaa2cfa3f382c1b364e6573f0067c\",\\n  \"page_count\": 7,\\n  \"download_url\": \"http://www.ca10.uscourts.gov/opinions/10/10-4016.pdf\",\\n  \"local_path\": \"pdf/2010/03/11/United_States_vs._Frownfelter_1.pdf\",\\n  \"plain_text\": \"                                                                        FILED\\\\n                                                             United States Court of Appeals\\\\n                                                                     Tenth Circuit\\\\n\\\\n                                                                   March 11, 2010\\\\n                     UNITED STATES COURT OF APPEALS\\\\n                                                                 Elisabeth A. Shumaker\\\\n                            FOR THE TENTH CIRCUIT                    Clerk of Court\\\\n\\\\n\\\\n\\\\n    UNITED STATES OF AMERICA,\\\\n\\\\n                Plaintiff-Appellee,\\\\n\\\\n    v.                                                    No. 10-4016\\\\n                                                (D.C. No. 2:08-CR-00808-TS-1)\\\\n    DOUGLAS LEE FROWNFELTER,                               (D. Utah)\\\\n\\\\n                Defendant-Appellant.\\\\n\\\\n\\\\n                            ORDER AND JUDGMENT *\\\\n\\\\n\\\\nBefore KELLY, EBEL, and GORSUCH, Circuit Judges.\\\\n\\\\n\\\\n\\\\n         Defendant Douglas Lee Frownfelter appeals the district court’s denial of\\\\n\\\\nhis 18 U.S.C. § 3143(b) motion for release pending appeal. The Government\\\\n\\\\nopposed the motion in the district court and has filed an opposition brief on\\\\n\\\\nappeal. We have jurisdiction under 28 U.S.C. § 1291 and 18 U.S.C. § 3145, and\\\\n\\\\nwe reverse.\\\\n\\\\n\\\\n\\\\n*\\\\n       After examining the briefs and appellate record, this panel has determined\\\\nunanimously that oral argument would not materially assist the determination of\\\\nthis appeal. See Fed. R. App. P. 34(a)(2); 10th Cir. R. 34.1(G). The case is\\\\ntherefore ordered submitted without oral argument. This order and judgment is\\\\nnot binding precedent, except under the doctrines of law of the case, res judicata,\\\\nand collateral estoppel. It may be cited, however, for its persuasive value\\\\nconsistent with Fed. R. App. P. 32.1 and 10th Cir. R. 32.1.\\\\n\\\\f                                         I.\\\\n\\\\n      The case against Frownfelter stems from his receipt of adoption subsidy\\\\n\\\\npayments through the Utah Division of Child and Family Services (“DCFS”) that\\\\n\\\\nwere funded in part by the United States Department of Health and Human\\\\n\\\\nServices. In 1995, Frownfelter and his wife adopted a son with special needs.\\\\n\\\\nThree years later, the couple divorced, sharing'"
      ]
     },
     "execution_count": 5,
     "metadata": {},
     "output_type": "execute_result"
    }
   ],
   "source": [
    "op95= open('ca10/95.json').read()\n",
    "op95[:3000]"
   ]
  },
  {
   "cell_type": "markdown",
   "id": "9c7194d2-8d33-4d3a-8cf3-c7d462cd6fa7",
   "metadata": {},
   "source": [
    "Ew, Lets see if i can make it more readable"
   ]
  },
  {
   "cell_type": "code",
   "execution_count": 6,
   "id": "b36c0200-a5bd-4cd7-8342-53121103db56",
   "metadata": {
    "tags": []
   },
   "outputs": [
    {
     "data": {
      "text/plain": [
       "['{',\n",
       " '  \"resource_uri\": \"https://www.courtlistener.com/api/rest/v3/opinions/95/\",',\n",
       " '  \"id\": 95,',\n",
       " '  \"absolute_url\": \"/opinion/95/united-states-v-frownfelter/\",',\n",
       " '  \"cluster\": \"https://www.courtlistener.com/api/rest/v3/clusters/95/\",',\n",
       " '  \"author\": null,',\n",
       " '  \"joined_by\": [],',\n",
       " '  \"author_str\": \"\",',\n",
       " '  \"per_curiam\": false,',\n",
       " '  \"joined_by_str\": \"\",',\n",
       " '  \"date_created\": \"2010-03-13T23:59:33Z\",',\n",
       " '  \"date_modified\": \"2020-03-02T19:53:50.186931Z\",',\n",
       " '  \"type\": \"010combined\",',\n",
       " '  \"sha1\": \"ee78eebf5c1aaa2cfa3f382c1b364e6573f0067c\",',\n",
       " '  \"page_count\": 7,',\n",
       " '  \"download_url\": \"http://www.ca10.uscourts.gov/opinions/10/10-4016.pdf\",',\n",
       " '  \"local_path\": \"pdf/2010/03/11/United_States_vs._Frownfelter_1.pdf\",',\n",
       " '  \"plain_text\": \"                                                                        FILED',\n",
       " '                                                             United States Court of Appeals',\n",
       " '                                                                     Tenth Circuit',\n",
       " '',\n",
       " '                                                                   March 11, 2010',\n",
       " '                     UNITED STATES COURT OF APPEALS',\n",
       " '                                                                 Elisabeth A. Shumaker',\n",
       " '                            FOR THE TENTH CIRCUIT                    Clerk of Court',\n",
       " '',\n",
       " '',\n",
       " '',\n",
       " '    UNITED STATES OF AMERICA,',\n",
       " '',\n",
       " '                Plaintiff-Appellee,',\n",
       " '',\n",
       " '    v.                                                    No. 10-4016',\n",
       " '                                                (D.C. No. 2:08-CR-00808-TS-1)',\n",
       " '    DOUGLAS LEE FROWNFELTER,                               (D. Utah)',\n",
       " '',\n",
       " '                Defendant-Appellant.',\n",
       " '',\n",
       " '',\n",
       " '                            ORDER AND JUDGMENT *',\n",
       " '',\n",
       " '',\n",
       " 'Before KELLY, EBEL, and GORSUCH, Circuit Judges.',\n",
       " '',\n",
       " '',\n",
       " '',\n",
       " '         Defendant Douglas Lee Frownfelter appeals the district court’s denial of',\n",
       " '',\n",
       " 'his 18 U.S.C. § 3143(b) motion for release pending appeal. The Government',\n",
       " '']"
      ]
     },
     "execution_count": 6,
     "metadata": {},
     "output_type": "execute_result"
    }
   ],
   "source": [
    "import re\n",
    "op95_readable = re.split(r\"\\n|\\\\n\", op95)\n",
    "op95_readable[:50]"
   ]
  },
  {
   "cell_type": "code",
   "execution_count": 7,
   "id": "71a93cda-71a5-4bd1-8e05-ab59734a37be",
   "metadata": {},
   "outputs": [],
   "source": [
    "#uncomment the following to read the whole thing\n",
    "#print(op95_readable)"
   ]
  },
  {
   "cell_type": "markdown",
   "id": "2565bd75-b716-4c77-9d7a-ad47158f35d0",
   "metadata": {},
   "source": [
    "Good enough, and look at all that helpful metadata at the top. Reading it as a human, the files contain a breif summary of the case, the decision of the court and the rational behind the decision. The author meta for all the files ones ive looked at are blank, but in the files they all seem to be written by respective \"clerks of the court\". That makes sense given their job is record keeping, but its hard to tell if this was what the judge said in court or was dictated later. I notice in the media it says '\"per curiam\" = flase' meaning its not a judges decison. I think i will try to figure out if i can narrow down the opinions to just per curiam opinions using the meta data"
   ]
  },
  {
   "cell_type": "code",
   "execution_count": 56,
   "id": "c3d63c09-f127-4eed-8ac2-a0f746c00c9b",
   "metadata": {},
   "outputs": [
    {
     "ename": "KeyboardInterrupt",
     "evalue": "",
     "output_type": "error",
     "traceback": [
      "\u001b[0;31m---------------------------------------------------------------------------\u001b[0m",
      "\u001b[0;31mKeyboardInterrupt\u001b[0m                         Traceback (most recent call last)",
      "\u001b[0;32m<ipython-input-56-7bc7accdd653>\u001b[0m in \u001b[0;36m<module>\u001b[0;34m\u001b[0m\n\u001b[1;32m      2\u001b[0m \u001b[0;32mfor\u001b[0m \u001b[0mfile_name\u001b[0m \u001b[0;32min\u001b[0m \u001b[0mos\u001b[0m\u001b[0;34m.\u001b[0m\u001b[0mlistdir\u001b[0m\u001b[0;34m(\u001b[0m\u001b[0mca10\u001b[0m\u001b[0;34m)\u001b[0m\u001b[0;34m:\u001b[0m\u001b[0;34m\u001b[0m\u001b[0;34m\u001b[0m\u001b[0m\n\u001b[1;32m      3\u001b[0m     \u001b[0mfile\u001b[0m\u001b[0;34m=\u001b[0m\u001b[0mos\u001b[0m\u001b[0;34m.\u001b[0m\u001b[0mpath\u001b[0m\u001b[0;34m.\u001b[0m\u001b[0mjoin\u001b[0m\u001b[0;34m(\u001b[0m\u001b[0mca10\u001b[0m\u001b[0;34m,\u001b[0m\u001b[0mfile_name\u001b[0m\u001b[0;34m)\u001b[0m\u001b[0;34m\u001b[0m\u001b[0;34m\u001b[0m\u001b[0m\n\u001b[0;32m----> 4\u001b[0;31m     \u001b[0mtxt\u001b[0m\u001b[0;34m=\u001b[0m\u001b[0mopen\u001b[0m\u001b[0;34m(\u001b[0m\u001b[0mfile\u001b[0m\u001b[0;34m)\u001b[0m\u001b[0;34m.\u001b[0m\u001b[0mread\u001b[0m\u001b[0;34m(\u001b[0m\u001b[0;34m)\u001b[0m\u001b[0;34m\u001b[0m\u001b[0;34m\u001b[0m\u001b[0m\n\u001b[0m\u001b[1;32m      5\u001b[0m     \u001b[0msplit\u001b[0m\u001b[0;34m=\u001b[0m\u001b[0mre\u001b[0m\u001b[0;34m.\u001b[0m\u001b[0msplit\u001b[0m\u001b[0;34m(\u001b[0m\u001b[0;34mr\"\\n|\\\\n\"\u001b[0m\u001b[0;34m,\u001b[0m \u001b[0mtxt\u001b[0m\u001b[0;34m)\u001b[0m\u001b[0;34m\u001b[0m\u001b[0;34m\u001b[0m\u001b[0m\n\u001b[1;32m      6\u001b[0m     \u001b[0mstring\u001b[0m\u001b[0;34m=\u001b[0m\u001b[0msplit\u001b[0m\u001b[0;34m[\u001b[0m\u001b[0;36m8\u001b[0m\u001b[0;34m]\u001b[0m\u001b[0;34m\u001b[0m\u001b[0;34m\u001b[0m\u001b[0m\n",
      "\u001b[0;32m/opt/anaconda3/lib/python3.8/codecs.py\u001b[0m in \u001b[0;36mdecode\u001b[0;34m(self, input, final)\u001b[0m\n\u001b[1;32m    317\u001b[0m         \u001b[0;32mraise\u001b[0m \u001b[0mNotImplementedError\u001b[0m\u001b[0;34m\u001b[0m\u001b[0;34m\u001b[0m\u001b[0m\n\u001b[1;32m    318\u001b[0m \u001b[0;34m\u001b[0m\u001b[0m\n\u001b[0;32m--> 319\u001b[0;31m     \u001b[0;32mdef\u001b[0m \u001b[0mdecode\u001b[0m\u001b[0;34m(\u001b[0m\u001b[0mself\u001b[0m\u001b[0;34m,\u001b[0m \u001b[0minput\u001b[0m\u001b[0;34m,\u001b[0m \u001b[0mfinal\u001b[0m\u001b[0;34m=\u001b[0m\u001b[0;32mFalse\u001b[0m\u001b[0;34m)\u001b[0m\u001b[0;34m:\u001b[0m\u001b[0;34m\u001b[0m\u001b[0;34m\u001b[0m\u001b[0m\n\u001b[0m\u001b[1;32m    320\u001b[0m         \u001b[0;31m# decode input (taking the buffer into account)\u001b[0m\u001b[0;34m\u001b[0m\u001b[0;34m\u001b[0m\u001b[0;34m\u001b[0m\u001b[0m\n\u001b[1;32m    321\u001b[0m         \u001b[0mdata\u001b[0m \u001b[0;34m=\u001b[0m \u001b[0mself\u001b[0m\u001b[0;34m.\u001b[0m\u001b[0mbuffer\u001b[0m \u001b[0;34m+\u001b[0m \u001b[0minput\u001b[0m\u001b[0;34m\u001b[0m\u001b[0;34m\u001b[0m\u001b[0m\n",
      "\u001b[0;31mKeyboardInterrupt\u001b[0m: "
     ]
    }
   ],
   "source": [
    "ca10='ca10/'\n",
    "for file_name in os.listdir(ca10):\n",
    "    file=os.path.join(ca10,file_name)\n",
    "    txt=open(file).read()\n",
    "    split=re.split(r\"\\n|\\\\n\", txt)\n",
    "    string=split[8]\n",
    "    if 'true' in string:\n",
    "        shutil.copyfile(file,'per_curiam')"
   ]
  },
  {
   "cell_type": "markdown",
   "id": "0c7155be-5003-47d5-a659-6ebb3818e8ca",
   "metadata": {},
   "source": [
    "Not working at the moment but lets try pulling dates. the date can be found easily enough in the 'readable' version...."
   ]
  },
  {
   "cell_type": "code",
   "execution_count": 50,
   "id": "fc5d061c-34d3-44fa-b3b7-d90bdcbfe6b1",
   "metadata": {},
   "outputs": [
    {
     "name": "stdout",
     "output_type": "stream",
     "text": [
      "2010-03-13\n"
     ]
    }
   ],
   "source": [
    "lit=op95_readable[10]\n",
    "print(lit[-22:-12])"
   ]
  },
  {
   "cell_type": "markdown",
   "id": "9f5020c6-feec-406c-90db-d6e17db660c7",
   "metadata": {},
   "source": [
    "...Lets see if i can make a loop that puts the dates in a list"
   ]
  },
  {
   "cell_type": "code",
   "execution_count": 9,
   "id": "80ec8f90-508e-4c90-b249-91b3be525467",
   "metadata": {
    "tags": []
   },
   "outputs": [
    {
     "ename": "KeyboardInterrupt",
     "evalue": "",
     "output_type": "error",
     "traceback": [
      "\u001b[0;31m---------------------------------------------------------------------------\u001b[0m",
      "\u001b[0;31mKeyboardInterrupt\u001b[0m                         Traceback (most recent call last)",
      "\u001b[0;32m<ipython-input-9-11e1710d0087>\u001b[0m in \u001b[0;36m<module>\u001b[0;34m\u001b[0m\n\u001b[1;32m      3\u001b[0m \u001b[0;32mfor\u001b[0m \u001b[0mfile_name\u001b[0m \u001b[0;32min\u001b[0m \u001b[0mos\u001b[0m\u001b[0;34m.\u001b[0m\u001b[0mlistdir\u001b[0m\u001b[0;34m(\u001b[0m\u001b[0mca10\u001b[0m\u001b[0;34m)\u001b[0m\u001b[0;34m:\u001b[0m\u001b[0;34m\u001b[0m\u001b[0;34m\u001b[0m\u001b[0m\n\u001b[1;32m      4\u001b[0m     \u001b[0mfile\u001b[0m\u001b[0;34m=\u001b[0m\u001b[0mos\u001b[0m\u001b[0;34m.\u001b[0m\u001b[0mpath\u001b[0m\u001b[0;34m.\u001b[0m\u001b[0mjoin\u001b[0m\u001b[0;34m(\u001b[0m\u001b[0mca10\u001b[0m\u001b[0;34m,\u001b[0m\u001b[0mfile_name\u001b[0m\u001b[0;34m)\u001b[0m\u001b[0;34m\u001b[0m\u001b[0;34m\u001b[0m\u001b[0m\n\u001b[0;32m----> 5\u001b[0;31m     \u001b[0mtxt\u001b[0m\u001b[0;34m=\u001b[0m\u001b[0mopen\u001b[0m\u001b[0;34m(\u001b[0m\u001b[0mfile\u001b[0m\u001b[0;34m)\u001b[0m\u001b[0;34m.\u001b[0m\u001b[0mread\u001b[0m\u001b[0;34m(\u001b[0m\u001b[0;34m)\u001b[0m\u001b[0;34m\u001b[0m\u001b[0;34m\u001b[0m\u001b[0m\n\u001b[0m\u001b[1;32m      6\u001b[0m     \u001b[0msplit\u001b[0m\u001b[0;34m=\u001b[0m\u001b[0mre\u001b[0m\u001b[0;34m.\u001b[0m\u001b[0msplit\u001b[0m\u001b[0;34m(\u001b[0m\u001b[0;34mr\"\\n|\\\\n\"\u001b[0m\u001b[0;34m,\u001b[0m \u001b[0mtxt\u001b[0m\u001b[0;34m)\u001b[0m\u001b[0;34m\u001b[0m\u001b[0;34m\u001b[0m\u001b[0m\n\u001b[1;32m      7\u001b[0m     \u001b[0mdate_string\u001b[0m\u001b[0;34m=\u001b[0m\u001b[0msplit\u001b[0m\u001b[0;34m[\u001b[0m\u001b[0;36m10\u001b[0m\u001b[0;34m]\u001b[0m\u001b[0;34m\u001b[0m\u001b[0;34m\u001b[0m\u001b[0m\n",
      "\u001b[0;31mKeyboardInterrupt\u001b[0m: "
     ]
    }
   ],
   "source": [
    "dates=[]\n",
    "ca10='/Users/keira.richards/E_DHML/embed/ca10/'\n",
    "for file_name in os.listdir(ca10):\n",
    "    file=os.path.join(ca10,file_name)\n",
    "    txt=open(file).read()\n",
    "    split=re.split(r\"\\n|\\\\n\", txt)\n",
    "    date_string=split[10]\n",
    "    date_actual= date_string[-22:-12:]\n",
    "    dates.append(date_actual)\n",
    "len(dates)"
   ]
  },
  {
   "cell_type": "markdown",
   "id": "47f883d6-31cd-4b47-94db-58e06e735647",
   "metadata": {},
   "source": [
    "That kind of worked...when I run a random sample we can see it isnt perfectly pulling dates and there is one extra (???), but I'll come back to that later.\n"
   ]
  },
  {
   "cell_type": "code",
   "execution_count": null,
   "id": "cbb2783d-dcc8-42a1-815c-bfef2fc8bcb0",
   "metadata": {},
   "outputs": [],
   "source": [
    "import random\n",
    "random.sample(dates, 15) #that aint right, fix it fucker"
   ]
  },
  {
   "cell_type": "markdown",
   "id": "44fd163b-ccee-49b7-b482-a61d2e71856d",
   "metadata": {},
   "source": [
    "Found someone with a similar issue on stack overflow, going to try to adapt their function to extracting meta from my files (have yet to get this to run with the processing issues"
   ]
  },
  {
   "cell_type": "code",
   "execution_count": 34,
   "id": "173337a8-d685-484b-b41e-fd9a7a111c09",
   "metadata": {},
   "outputs": [
    {
     "ename": "KeyboardInterrupt",
     "evalue": "",
     "output_type": "error",
     "traceback": [
      "\u001b[0;31m---------------------------------------------------------------------------\u001b[0m",
      "\u001b[0;31mKeyboardInterrupt\u001b[0m                         Traceback (most recent call last)",
      "\u001b[0;32m<ipython-input-34-44893a0d0f23>\u001b[0m in \u001b[0;36m<module>\u001b[0;34m\u001b[0m\n\u001b[1;32m     52\u001b[0m     \u001b[0mjson_file\u001b[0m \u001b[0;34m=\u001b[0m \u001b[0mjson\u001b[0m\u001b[0;34m.\u001b[0m\u001b[0mload\u001b[0m\u001b[0;34m(\u001b[0m\u001b[0mfile\u001b[0m\u001b[0;34m)\u001b[0m\u001b[0;34m\u001b[0m\u001b[0;34m\u001b[0m\u001b[0m\n\u001b[1;32m     53\u001b[0m     \u001b[0mparse_json\u001b[0m\u001b[0;34m(\u001b[0m\u001b[0;34m\"json_file\"\u001b[0m\u001b[0;34m,\u001b[0m \u001b[0mjson_file\u001b[0m\u001b[0;34m,\u001b[0m\u001b[0;36m0\u001b[0m\u001b[0;34m,\u001b[0m\u001b[0;34m{\u001b[0m\u001b[0;34m}\u001b[0m\u001b[0;34m)\u001b[0m\u001b[0;34m\u001b[0m\u001b[0;34m\u001b[0m\u001b[0m\n\u001b[0;32m---> 54\u001b[0;31m     \u001b[0mdf\u001b[0m\u001b[0;34m.\u001b[0m\u001b[0mto_excel\u001b[0m\u001b[0;34m(\u001b[0m\u001b[0;34mr\"D:\\out.xlsx\"\u001b[0m\u001b[0;34m)\u001b[0m\u001b[0;34m\u001b[0m\u001b[0;34m\u001b[0m\u001b[0m\n\u001b[0m",
      "\u001b[0;32m/opt/anaconda3/lib/python3.8/site-packages/pandas/core/generic.py\u001b[0m in \u001b[0;36mto_excel\u001b[0;34m(self, excel_writer, sheet_name, na_rep, float_format, columns, header, index, index_label, startrow, startcol, engine, merge_cells, encoding, inf_rep, verbose, freeze_panes, storage_options)\u001b[0m\n\u001b[1;32m   2187\u001b[0m             \u001b[0minf_rep\u001b[0m\u001b[0;34m=\u001b[0m\u001b[0minf_rep\u001b[0m\u001b[0;34m,\u001b[0m\u001b[0;34m\u001b[0m\u001b[0;34m\u001b[0m\u001b[0m\n\u001b[1;32m   2188\u001b[0m         )\n\u001b[0;32m-> 2189\u001b[0;31m         formatter.write(\n\u001b[0m\u001b[1;32m   2190\u001b[0m             \u001b[0mexcel_writer\u001b[0m\u001b[0;34m,\u001b[0m\u001b[0;34m\u001b[0m\u001b[0;34m\u001b[0m\u001b[0m\n\u001b[1;32m   2191\u001b[0m             \u001b[0msheet_name\u001b[0m\u001b[0;34m=\u001b[0m\u001b[0msheet_name\u001b[0m\u001b[0;34m,\u001b[0m\u001b[0;34m\u001b[0m\u001b[0;34m\u001b[0m\u001b[0m\n",
      "\u001b[0;32m/opt/anaconda3/lib/python3.8/site-packages/pandas/io/formats/excel.py\u001b[0m in \u001b[0;36mwrite\u001b[0;34m(self, writer, sheet_name, startrow, startcol, freeze_panes, engine, storage_options)\u001b[0m\n\u001b[1;32m    829\u001b[0m             \u001b[0;31m# make sure to close opened file handles\u001b[0m\u001b[0;34m\u001b[0m\u001b[0;34m\u001b[0m\u001b[0;34m\u001b[0m\u001b[0m\n\u001b[1;32m    830\u001b[0m             \u001b[0;32mif\u001b[0m \u001b[0mneed_save\u001b[0m\u001b[0;34m:\u001b[0m\u001b[0;34m\u001b[0m\u001b[0;34m\u001b[0m\u001b[0m\n\u001b[0;32m--> 831\u001b[0;31m                 \u001b[0mwriter\u001b[0m\u001b[0;34m.\u001b[0m\u001b[0mclose\u001b[0m\u001b[0;34m(\u001b[0m\u001b[0;34m)\u001b[0m\u001b[0;34m\u001b[0m\u001b[0;34m\u001b[0m\u001b[0m\n\u001b[0m",
      "\u001b[0;32m/opt/anaconda3/lib/python3.8/site-packages/pandas/io/excel/_base.py\u001b[0m in \u001b[0;36mclose\u001b[0;34m(self)\u001b[0m\n\u001b[1;32m    896\u001b[0m     \u001b[0;32mdef\u001b[0m \u001b[0mclose\u001b[0m\u001b[0;34m(\u001b[0m\u001b[0mself\u001b[0m\u001b[0;34m)\u001b[0m\u001b[0;34m:\u001b[0m\u001b[0;34m\u001b[0m\u001b[0;34m\u001b[0m\u001b[0m\n\u001b[1;32m    897\u001b[0m         \u001b[0;34m\"\"\"synonym for save, to make it more file-like\"\"\"\u001b[0m\u001b[0;34m\u001b[0m\u001b[0;34m\u001b[0m\u001b[0m\n\u001b[0;32m--> 898\u001b[0;31m         \u001b[0mcontent\u001b[0m \u001b[0;34m=\u001b[0m \u001b[0mself\u001b[0m\u001b[0;34m.\u001b[0m\u001b[0msave\u001b[0m\u001b[0;34m(\u001b[0m\u001b[0;34m)\u001b[0m\u001b[0;34m\u001b[0m\u001b[0;34m\u001b[0m\u001b[0m\n\u001b[0m\u001b[1;32m    899\u001b[0m         \u001b[0mself\u001b[0m\u001b[0;34m.\u001b[0m\u001b[0mhandles\u001b[0m\u001b[0;34m.\u001b[0m\u001b[0mclose\u001b[0m\u001b[0;34m(\u001b[0m\u001b[0;34m)\u001b[0m\u001b[0;34m\u001b[0m\u001b[0;34m\u001b[0m\u001b[0m\n\u001b[1;32m    900\u001b[0m         \u001b[0;32mreturn\u001b[0m \u001b[0mcontent\u001b[0m\u001b[0;34m\u001b[0m\u001b[0;34m\u001b[0m\u001b[0m\n",
      "\u001b[0;32m/opt/anaconda3/lib/python3.8/site-packages/pandas/io/excel/_xlsxwriter.py\u001b[0m in \u001b[0;36msave\u001b[0;34m(self)\u001b[0m\n\u001b[1;32m    196\u001b[0m         \u001b[0mSave\u001b[0m \u001b[0mworkbook\u001b[0m \u001b[0mto\u001b[0m \u001b[0mdisk\u001b[0m\u001b[0;34m.\u001b[0m\u001b[0;34m\u001b[0m\u001b[0;34m\u001b[0m\u001b[0m\n\u001b[1;32m    197\u001b[0m         \"\"\"\n\u001b[0;32m--> 198\u001b[0;31m         \u001b[0;32mreturn\u001b[0m \u001b[0mself\u001b[0m\u001b[0;34m.\u001b[0m\u001b[0mbook\u001b[0m\u001b[0;34m.\u001b[0m\u001b[0mclose\u001b[0m\u001b[0;34m(\u001b[0m\u001b[0;34m)\u001b[0m\u001b[0;34m\u001b[0m\u001b[0;34m\u001b[0m\u001b[0m\n\u001b[0m\u001b[1;32m    199\u001b[0m \u001b[0;34m\u001b[0m\u001b[0m\n\u001b[1;32m    200\u001b[0m     def write_cells(\n",
      "\u001b[0;32m/opt/anaconda3/lib/python3.8/site-packages/xlsxwriter/workbook.py\u001b[0m in \u001b[0;36mclose\u001b[0;34m(self)\u001b[0m\n\u001b[1;32m    319\u001b[0m \u001b[0;34m\u001b[0m\u001b[0m\n\u001b[1;32m    320\u001b[0m             \u001b[0;32mtry\u001b[0m\u001b[0;34m:\u001b[0m\u001b[0;34m\u001b[0m\u001b[0;34m\u001b[0m\u001b[0m\n\u001b[0;32m--> 321\u001b[0;31m                 \u001b[0mself\u001b[0m\u001b[0;34m.\u001b[0m\u001b[0m_store_workbook\u001b[0m\u001b[0;34m(\u001b[0m\u001b[0;34m)\u001b[0m\u001b[0;34m\u001b[0m\u001b[0;34m\u001b[0m\u001b[0m\n\u001b[0m\u001b[1;32m    322\u001b[0m             \u001b[0;32mexcept\u001b[0m \u001b[0mIOError\u001b[0m \u001b[0;32mas\u001b[0m \u001b[0me\u001b[0m\u001b[0;34m:\u001b[0m\u001b[0;34m\u001b[0m\u001b[0;34m\u001b[0m\u001b[0m\n\u001b[1;32m    323\u001b[0m                 \u001b[0;32mraise\u001b[0m \u001b[0mFileCreateError\u001b[0m\u001b[0;34m(\u001b[0m\u001b[0me\u001b[0m\u001b[0;34m)\u001b[0m\u001b[0;34m\u001b[0m\u001b[0;34m\u001b[0m\u001b[0m\n",
      "\u001b[0;32m/opt/anaconda3/lib/python3.8/site-packages/xlsxwriter/workbook.py\u001b[0m in \u001b[0;36m_store_workbook\u001b[0;34m(self)\u001b[0m\n\u001b[1;32m    706\u001b[0m         \u001b[0mpackager\u001b[0m\u001b[0;34m.\u001b[0m\u001b[0m_set_tmpdir\u001b[0m\u001b[0;34m(\u001b[0m\u001b[0mself\u001b[0m\u001b[0;34m.\u001b[0m\u001b[0mtmpdir\u001b[0m\u001b[0;34m)\u001b[0m\u001b[0;34m\u001b[0m\u001b[0;34m\u001b[0m\u001b[0m\n\u001b[1;32m    707\u001b[0m         \u001b[0mpackager\u001b[0m\u001b[0;34m.\u001b[0m\u001b[0m_set_in_memory\u001b[0m\u001b[0;34m(\u001b[0m\u001b[0mself\u001b[0m\u001b[0;34m.\u001b[0m\u001b[0min_memory\u001b[0m\u001b[0;34m)\u001b[0m\u001b[0;34m\u001b[0m\u001b[0;34m\u001b[0m\u001b[0m\n\u001b[0;32m--> 708\u001b[0;31m         \u001b[0mxml_files\u001b[0m \u001b[0;34m=\u001b[0m \u001b[0mpackager\u001b[0m\u001b[0;34m.\u001b[0m\u001b[0m_create_package\u001b[0m\u001b[0;34m(\u001b[0m\u001b[0;34m)\u001b[0m\u001b[0;34m\u001b[0m\u001b[0;34m\u001b[0m\u001b[0m\n\u001b[0m\u001b[1;32m    709\u001b[0m \u001b[0;34m\u001b[0m\u001b[0m\n\u001b[1;32m    710\u001b[0m         \u001b[0;31m# Free up the Packager object.\u001b[0m\u001b[0;34m\u001b[0m\u001b[0;34m\u001b[0m\u001b[0;34m\u001b[0m\u001b[0m\n",
      "\u001b[0;32m/opt/anaconda3/lib/python3.8/site-packages/xlsxwriter/packager.py\u001b[0m in \u001b[0;36m_create_package\u001b[0;34m(self)\u001b[0m\n\u001b[1;32m    133\u001b[0m         \u001b[0mself\u001b[0m\u001b[0;34m.\u001b[0m\u001b[0m_write_root_rels_file\u001b[0m\u001b[0;34m(\u001b[0m\u001b[0;34m)\u001b[0m\u001b[0;34m\u001b[0m\u001b[0;34m\u001b[0m\u001b[0m\n\u001b[1;32m    134\u001b[0m         \u001b[0mself\u001b[0m\u001b[0;34m.\u001b[0m\u001b[0m_write_workbook_rels_file\u001b[0m\u001b[0;34m(\u001b[0m\u001b[0;34m)\u001b[0m\u001b[0;34m\u001b[0m\u001b[0;34m\u001b[0m\u001b[0m\n\u001b[0;32m--> 135\u001b[0;31m         \u001b[0mself\u001b[0m\u001b[0;34m.\u001b[0m\u001b[0m_write_worksheet_files\u001b[0m\u001b[0;34m(\u001b[0m\u001b[0;34m)\u001b[0m\u001b[0;34m\u001b[0m\u001b[0;34m\u001b[0m\u001b[0m\n\u001b[0m\u001b[1;32m    136\u001b[0m         \u001b[0mself\u001b[0m\u001b[0;34m.\u001b[0m\u001b[0m_write_chartsheet_files\u001b[0m\u001b[0;34m(\u001b[0m\u001b[0;34m)\u001b[0m\u001b[0;34m\u001b[0m\u001b[0;34m\u001b[0m\u001b[0m\n\u001b[1;32m    137\u001b[0m         \u001b[0mself\u001b[0m\u001b[0;34m.\u001b[0m\u001b[0m_write_workbook_file\u001b[0m\u001b[0;34m(\u001b[0m\u001b[0;34m)\u001b[0m\u001b[0;34m\u001b[0m\u001b[0;34m\u001b[0m\u001b[0m\n",
      "\u001b[0;32m/opt/anaconda3/lib/python3.8/site-packages/xlsxwriter/packager.py\u001b[0m in \u001b[0;36m_write_worksheet_files\u001b[0;34m(self)\u001b[0m\n\u001b[1;32m    188\u001b[0m             worksheet._set_xml_writer(self._filename('xl/worksheets/sheet'\n\u001b[1;32m    189\u001b[0m                                                      + str(index) + '.xml'))\n\u001b[0;32m--> 190\u001b[0;31m             \u001b[0mworksheet\u001b[0m\u001b[0;34m.\u001b[0m\u001b[0m_assemble_xml_file\u001b[0m\u001b[0;34m(\u001b[0m\u001b[0;34m)\u001b[0m\u001b[0;34m\u001b[0m\u001b[0;34m\u001b[0m\u001b[0m\n\u001b[0m\u001b[1;32m    191\u001b[0m             \u001b[0mindex\u001b[0m \u001b[0;34m+=\u001b[0m \u001b[0;36m1\u001b[0m\u001b[0;34m\u001b[0m\u001b[0;34m\u001b[0m\u001b[0m\n\u001b[1;32m    192\u001b[0m \u001b[0;34m\u001b[0m\u001b[0m\n",
      "\u001b[0;32m/opt/anaconda3/lib/python3.8/site-packages/xlsxwriter/worksheet.py\u001b[0m in \u001b[0;36m_assemble_xml_file\u001b[0;34m(self)\u001b[0m\n\u001b[1;32m   3876\u001b[0m         \u001b[0;31m# Write the worksheet data such as rows columns and cells.\u001b[0m\u001b[0;34m\u001b[0m\u001b[0;34m\u001b[0m\u001b[0;34m\u001b[0m\u001b[0m\n\u001b[1;32m   3877\u001b[0m         \u001b[0;32mif\u001b[0m \u001b[0;32mnot\u001b[0m \u001b[0mself\u001b[0m\u001b[0;34m.\u001b[0m\u001b[0mconstant_memory\u001b[0m\u001b[0;34m:\u001b[0m\u001b[0;34m\u001b[0m\u001b[0;34m\u001b[0m\u001b[0m\n\u001b[0;32m-> 3878\u001b[0;31m             \u001b[0mself\u001b[0m\u001b[0;34m.\u001b[0m\u001b[0m_write_sheet_data\u001b[0m\u001b[0;34m(\u001b[0m\u001b[0;34m)\u001b[0m\u001b[0;34m\u001b[0m\u001b[0;34m\u001b[0m\u001b[0m\n\u001b[0m\u001b[1;32m   3879\u001b[0m         \u001b[0;32melse\u001b[0m\u001b[0;34m:\u001b[0m\u001b[0;34m\u001b[0m\u001b[0;34m\u001b[0m\u001b[0m\n\u001b[1;32m   3880\u001b[0m             \u001b[0mself\u001b[0m\u001b[0;34m.\u001b[0m\u001b[0m_write_optimized_sheet_data\u001b[0m\u001b[0;34m(\u001b[0m\u001b[0;34m)\u001b[0m\u001b[0;34m\u001b[0m\u001b[0;34m\u001b[0m\u001b[0m\n",
      "\u001b[0;32m/opt/anaconda3/lib/python3.8/site-packages/xlsxwriter/worksheet.py\u001b[0m in \u001b[0;36m_write_sheet_data\u001b[0;34m(self)\u001b[0m\n\u001b[1;32m   5491\u001b[0m         \u001b[0;32melse\u001b[0m\u001b[0;34m:\u001b[0m\u001b[0;34m\u001b[0m\u001b[0;34m\u001b[0m\u001b[0m\n\u001b[1;32m   5492\u001b[0m             \u001b[0mself\u001b[0m\u001b[0;34m.\u001b[0m\u001b[0m_xml_start_tag\u001b[0m\u001b[0;34m(\u001b[0m\u001b[0;34m'sheetData'\u001b[0m\u001b[0;34m)\u001b[0m\u001b[0;34m\u001b[0m\u001b[0;34m\u001b[0m\u001b[0m\n\u001b[0;32m-> 5493\u001b[0;31m             \u001b[0mself\u001b[0m\u001b[0;34m.\u001b[0m\u001b[0m_write_rows\u001b[0m\u001b[0;34m(\u001b[0m\u001b[0;34m)\u001b[0m\u001b[0;34m\u001b[0m\u001b[0;34m\u001b[0m\u001b[0m\n\u001b[0m\u001b[1;32m   5494\u001b[0m             \u001b[0mself\u001b[0m\u001b[0;34m.\u001b[0m\u001b[0m_xml_end_tag\u001b[0m\u001b[0;34m(\u001b[0m\u001b[0;34m'sheetData'\u001b[0m\u001b[0;34m)\u001b[0m\u001b[0;34m\u001b[0m\u001b[0;34m\u001b[0m\u001b[0m\n\u001b[1;32m   5495\u001b[0m \u001b[0;34m\u001b[0m\u001b[0m\n",
      "\u001b[0;32m/opt/anaconda3/lib/python3.8/site-packages/xlsxwriter/worksheet.py\u001b[0m in \u001b[0;36m_write_rows\u001b[0;34m(self)\u001b[0m\n\u001b[1;32m   5684\u001b[0m                         \u001b[0;32mif\u001b[0m \u001b[0mcol_num\u001b[0m \u001b[0;32min\u001b[0m \u001b[0mself\u001b[0m\u001b[0;34m.\u001b[0m\u001b[0mtable\u001b[0m\u001b[0;34m[\u001b[0m\u001b[0mrow_num\u001b[0m\u001b[0;34m]\u001b[0m\u001b[0;34m:\u001b[0m\u001b[0;34m\u001b[0m\u001b[0;34m\u001b[0m\u001b[0m\n\u001b[1;32m   5685\u001b[0m                             \u001b[0mcol_ref\u001b[0m \u001b[0;34m=\u001b[0m \u001b[0mself\u001b[0m\u001b[0;34m.\u001b[0m\u001b[0mtable\u001b[0m\u001b[0;34m[\u001b[0m\u001b[0mrow_num\u001b[0m\u001b[0;34m]\u001b[0m\u001b[0;34m[\u001b[0m\u001b[0mcol_num\u001b[0m\u001b[0;34m]\u001b[0m\u001b[0;34m\u001b[0m\u001b[0;34m\u001b[0m\u001b[0m\n\u001b[0;32m-> 5686\u001b[0;31m                             \u001b[0mself\u001b[0m\u001b[0;34m.\u001b[0m\u001b[0m_write_cell\u001b[0m\u001b[0;34m(\u001b[0m\u001b[0mrow_num\u001b[0m\u001b[0;34m,\u001b[0m \u001b[0mcol_num\u001b[0m\u001b[0;34m,\u001b[0m \u001b[0mcol_ref\u001b[0m\u001b[0;34m)\u001b[0m\u001b[0;34m\u001b[0m\u001b[0;34m\u001b[0m\u001b[0m\n\u001b[0m\u001b[1;32m   5687\u001b[0m \u001b[0;34m\u001b[0m\u001b[0m\n\u001b[1;32m   5688\u001b[0m                     \u001b[0mself\u001b[0m\u001b[0;34m.\u001b[0m\u001b[0m_xml_end_tag\u001b[0m\u001b[0;34m(\u001b[0m\u001b[0;34m'row'\u001b[0m\u001b[0;34m)\u001b[0m\u001b[0;34m\u001b[0m\u001b[0;34m\u001b[0m\u001b[0m\n",
      "\u001b[0;32m/opt/anaconda3/lib/python3.8/site-packages/xlsxwriter/worksheet.py\u001b[0m in \u001b[0;36m_write_cell\u001b[0;34m(self, row, col, cell)\u001b[0m\n\u001b[1;32m   5865\u001b[0m         \u001b[0;32mif\u001b[0m \u001b[0mtype_cell_name\u001b[0m \u001b[0;34m==\u001b[0m \u001b[0;34m'Number'\u001b[0m\u001b[0;34m:\u001b[0m\u001b[0;34m\u001b[0m\u001b[0;34m\u001b[0m\u001b[0m\n\u001b[1;32m   5866\u001b[0m             \u001b[0;31m# Write a number.\u001b[0m\u001b[0;34m\u001b[0m\u001b[0;34m\u001b[0m\u001b[0;34m\u001b[0m\u001b[0m\n\u001b[0;32m-> 5867\u001b[0;31m             \u001b[0mself\u001b[0m\u001b[0;34m.\u001b[0m\u001b[0m_xml_number_element\u001b[0m\u001b[0;34m(\u001b[0m\u001b[0mcell\u001b[0m\u001b[0;34m.\u001b[0m\u001b[0mnumber\u001b[0m\u001b[0;34m,\u001b[0m \u001b[0mattributes\u001b[0m\u001b[0;34m)\u001b[0m\u001b[0;34m\u001b[0m\u001b[0;34m\u001b[0m\u001b[0m\n\u001b[0m\u001b[1;32m   5868\u001b[0m \u001b[0;34m\u001b[0m\u001b[0m\n\u001b[1;32m   5869\u001b[0m         \u001b[0;32melif\u001b[0m \u001b[0mtype_cell_name\u001b[0m \u001b[0;34m==\u001b[0m \u001b[0;34m'String'\u001b[0m\u001b[0;34m:\u001b[0m\u001b[0;34m\u001b[0m\u001b[0;34m\u001b[0m\u001b[0m\n",
      "\u001b[0;32m/opt/anaconda3/lib/python3.8/site-packages/xlsxwriter/xmlwriter.py\u001b[0m in \u001b[0;36m_xml_number_element\u001b[0;34m(self, number, attributes)\u001b[0m\n\u001b[1;32m    132\u001b[0m \u001b[0;34m\u001b[0m\u001b[0m\n\u001b[1;32m    133\u001b[0m         \u001b[0;32mfor\u001b[0m \u001b[0mkey\u001b[0m\u001b[0;34m,\u001b[0m \u001b[0mvalue\u001b[0m \u001b[0;32min\u001b[0m \u001b[0mattributes\u001b[0m\u001b[0;34m:\u001b[0m\u001b[0;34m\u001b[0m\u001b[0;34m\u001b[0m\u001b[0m\n\u001b[0;32m--> 134\u001b[0;31m             \u001b[0mvalue\u001b[0m \u001b[0;34m=\u001b[0m \u001b[0mself\u001b[0m\u001b[0;34m.\u001b[0m\u001b[0m_escape_attributes\u001b[0m\u001b[0;34m(\u001b[0m\u001b[0mvalue\u001b[0m\u001b[0;34m)\u001b[0m\u001b[0;34m\u001b[0m\u001b[0;34m\u001b[0m\u001b[0m\n\u001b[0m\u001b[1;32m    135\u001b[0m             \u001b[0mattr\u001b[0m \u001b[0;34m+=\u001b[0m \u001b[0;34m' %s=\"%s\"'\u001b[0m \u001b[0;34m%\u001b[0m \u001b[0;34m(\u001b[0m\u001b[0mkey\u001b[0m\u001b[0;34m,\u001b[0m \u001b[0mvalue\u001b[0m\u001b[0;34m)\u001b[0m\u001b[0;34m\u001b[0m\u001b[0;34m\u001b[0m\u001b[0m\n\u001b[1;32m    136\u001b[0m \u001b[0;34m\u001b[0m\u001b[0m\n",
      "\u001b[0;31mKeyboardInterrupt\u001b[0m: "
     ]
    }
   ],
   "source": [
    "import json\n",
    "import pandas as pd\n",
    "\n",
    "\n",
    "level = 4\n",
    "df = pd.DataFrame(columns = [\"key0\", \"dt0\", \"key1\", \"dt1\", \"key2\", \"dt2\", \"key3\", \"dt3\", \"key4\", \"dt4\"])\n",
    "def parse_json(key, value,curent_level,massage):\n",
    "    global df\n",
    "    global level\n",
    "    if curent_level == level:\n",
    "        df = df.append(massage,ignore_index = True)\n",
    "        return\n",
    "    t = type(value)\n",
    "    if t == str:\n",
    "        try:\n",
    "            tmp = json.loads(value)\n",
    "            massage[\"key\"+str(curent_level)] = key\n",
    "            massage[\"dt\"+str(curent_level)] = \"json\"\n",
    "            for k in tmp:\n",
    "                parse_json(k,tmp[k],curent_level+1,massage)\n",
    "        except:\n",
    "            massage[\"key\"+str(curent_level)] = key\n",
    "            massage[\"dt\"+str(curent_level)] = \"str\"\n",
    "            df = df.append(massage,ignore_index = True)\n",
    "            return\n",
    "    else:\n",
    "        if t == list:\n",
    "            massage[\"key\"+str(curent_level)] = key\n",
    "            massage[\"dt\"+str(curent_level)] = \"list\"\n",
    "            for li in value:\n",
    "                parse_json(key,li,curent_level+1,massage)\n",
    "        if t == dict:\n",
    "            massage[\"key\"+str(curent_level)] = key\n",
    "            massage[\"dt\"+str(curent_level)] = \"dict\"\n",
    "            for k in value:\n",
    "                parse_json(k,value[k],curent_level+1,massage)\n",
    "        if t == set:\n",
    "            massage[\"key\"+str(curent_level)] = key\n",
    "            massage[\"dt\"+str(curent_level)] = \"set\"\n",
    "            for li in value:\n",
    "                parse_json(key,li,curent_level+1,massage)\n",
    "\n",
    "        massage[\"key\"+str(curent_level)] = key\n",
    "        massage[\"dt\"+str(curent_level)] = \"simple\"\n",
    "        df = df.append(massage,ignore_index = True)\n",
    "\n",
    "ca10='/Users/keira.richards/E_DHML/embed/ca10/'\n",
    "for file_name in os.listdir(ca10):\n",
    "    path=os.path.join(ca10,file_name)\n",
    "    file = open(path)\n",
    "    json_file = json.load(file)\n",
    "    parse_json(\"json_file\", json_file,0,{})\n",
    "    df.to_excel(r\"out.xlsx\")"
   ]
  },
  {
   "cell_type": "markdown",
   "id": "468ca370-bb3e-4f55-a195-5e35ee41045c",
   "metadata": {},
   "source": [
    "### Non-ML Analyis\n",
    "Im going to try to do some term frequency analayis on a random sample of the Json files. After muplitplee attempts to use the whole set, I dont think my 2015 Mac has the RAM. But he tried and im proud of him."
   ]
  },
  {
   "cell_type": "code",
   "execution_count": 11,
   "id": "68dfdb5e-3298-4fbe-a691-d3628b5b2414",
   "metadata": {},
   "outputs": [],
   "source": [
    "from sklearn.feature_extraction.text import TfidfVectorizer\n",
    "from sklearn.feature_extraction.text import CountVectorizer\n",
    "import pandas as pd\n",
    "from pathlib import Path  "
   ]
  },
  {
   "cell_type": "code",
   "execution_count": 22,
   "id": "93bc2c51-aedf-41c3-b5af-75f3c2335ac7",
   "metadata": {},
   "outputs": [],
   "source": [
    "json_sample=random.sample (json_files, 5000)\n",
    "titles = [Path(text).stem for text in json_sample]"
   ]
  },
  {
   "cell_type": "code",
   "execution_count": 23,
   "id": "aa74e540-67f2-4504-93ec-cd14c979bc13",
   "metadata": {},
   "outputs": [],
   "source": [
    "tfidf_vectorizer = TfidfVectorizer(input='filename', stop_words='english')\n",
    "tfidf_vector = tfidf_vectorizer.fit_transform(json_sample)"
   ]
  },
  {
   "cell_type": "code",
   "execution_count": 24,
   "id": "d891af68-b111-4512-9880-d1d85e417dff",
   "metadata": {},
   "outputs": [],
   "source": [
    "tfidf_df = pd.DataFrame(tfidf_vector.toarray(), index=titles, columns=tfidf_vectorizer.get_feature_names())"
   ]
  },
  {
   "cell_type": "code",
   "execution_count": 26,
   "id": "6536a035-ad45-4de4-b09d-7cb200c4c9af",
   "metadata": {},
   "outputs": [
    {
     "data": {
      "text/html": [
       "<div>\n",
       "<style scoped>\n",
       "    .dataframe tbody tr th:only-of-type {\n",
       "        vertical-align: middle;\n",
       "    }\n",
       "\n",
       "    .dataframe tbody tr th {\n",
       "        vertical-align: top;\n",
       "    }\n",
       "\n",
       "    .dataframe thead th {\n",
       "        text-align: right;\n",
       "    }\n",
       "</style>\n",
       "<table border=\"1\" class=\"dataframe\">\n",
       "  <thead>\n",
       "    <tr style=\"text-align: right;\">\n",
       "      <th></th>\n",
       "      <th>government</th>\n",
       "      <th>men</th>\n",
       "      <th>man</th>\n",
       "      <th>women</th>\n",
       "      <th>woman</th>\n",
       "      <th>race</th>\n",
       "      <th>rights</th>\n",
       "      <th>children</th>\n",
       "    </tr>\n",
       "  </thead>\n",
       "  <tbody>\n",
       "    <tr>\n",
       "      <th>00_Document Frequency</th>\n",
       "      <td>2025.00</td>\n",
       "      <td>281.0</td>\n",
       "      <td>401.00</td>\n",
       "      <td>136.0</td>\n",
       "      <td>159.00</td>\n",
       "      <td>243.00</td>\n",
       "      <td>2193.00</td>\n",
       "      <td>303.0</td>\n",
       "    </tr>\n",
       "    <tr>\n",
       "      <th>1033269</th>\n",
       "      <td>0.02</td>\n",
       "      <td>0.0</td>\n",
       "      <td>0.00</td>\n",
       "      <td>0.0</td>\n",
       "      <td>0.00</td>\n",
       "      <td>0.00</td>\n",
       "      <td>0.00</td>\n",
       "      <td>0.0</td>\n",
       "    </tr>\n",
       "    <tr>\n",
       "      <th>1033272</th>\n",
       "      <td>0.00</td>\n",
       "      <td>0.0</td>\n",
       "      <td>0.00</td>\n",
       "      <td>0.0</td>\n",
       "      <td>0.01</td>\n",
       "      <td>0.00</td>\n",
       "      <td>0.02</td>\n",
       "      <td>0.0</td>\n",
       "    </tr>\n",
       "    <tr>\n",
       "      <th>1033797</th>\n",
       "      <td>0.00</td>\n",
       "      <td>0.0</td>\n",
       "      <td>0.01</td>\n",
       "      <td>0.0</td>\n",
       "      <td>0.00</td>\n",
       "      <td>0.01</td>\n",
       "      <td>0.01</td>\n",
       "      <td>0.0</td>\n",
       "    </tr>\n",
       "    <tr>\n",
       "      <th>1034152</th>\n",
       "      <td>0.00</td>\n",
       "      <td>0.0</td>\n",
       "      <td>0.00</td>\n",
       "      <td>0.0</td>\n",
       "      <td>0.00</td>\n",
       "      <td>0.00</td>\n",
       "      <td>0.00</td>\n",
       "      <td>0.0</td>\n",
       "    </tr>\n",
       "    <tr>\n",
       "      <th>...</th>\n",
       "      <td>...</td>\n",
       "      <td>...</td>\n",
       "      <td>...</td>\n",
       "      <td>...</td>\n",
       "      <td>...</td>\n",
       "      <td>...</td>\n",
       "      <td>...</td>\n",
       "      <td>...</td>\n",
       "    </tr>\n",
       "    <tr>\n",
       "      <th>950558</th>\n",
       "      <td>0.00</td>\n",
       "      <td>0.0</td>\n",
       "      <td>0.00</td>\n",
       "      <td>0.0</td>\n",
       "      <td>0.00</td>\n",
       "      <td>0.00</td>\n",
       "      <td>0.00</td>\n",
       "      <td>0.0</td>\n",
       "    </tr>\n",
       "    <tr>\n",
       "      <th>981</th>\n",
       "      <td>0.00</td>\n",
       "      <td>0.0</td>\n",
       "      <td>0.00</td>\n",
       "      <td>0.0</td>\n",
       "      <td>0.00</td>\n",
       "      <td>0.00</td>\n",
       "      <td>0.00</td>\n",
       "      <td>0.0</td>\n",
       "    </tr>\n",
       "    <tr>\n",
       "      <th>984810</th>\n",
       "      <td>0.00</td>\n",
       "      <td>0.0</td>\n",
       "      <td>0.00</td>\n",
       "      <td>0.0</td>\n",
       "      <td>0.00</td>\n",
       "      <td>0.00</td>\n",
       "      <td>0.01</td>\n",
       "      <td>0.0</td>\n",
       "    </tr>\n",
       "    <tr>\n",
       "      <th>985209</th>\n",
       "      <td>0.00</td>\n",
       "      <td>0.0</td>\n",
       "      <td>0.00</td>\n",
       "      <td>0.0</td>\n",
       "      <td>0.00</td>\n",
       "      <td>0.00</td>\n",
       "      <td>0.00</td>\n",
       "      <td>0.0</td>\n",
       "    </tr>\n",
       "    <tr>\n",
       "      <th>987030</th>\n",
       "      <td>0.01</td>\n",
       "      <td>0.0</td>\n",
       "      <td>0.00</td>\n",
       "      <td>0.0</td>\n",
       "      <td>0.00</td>\n",
       "      <td>0.00</td>\n",
       "      <td>0.00</td>\n",
       "      <td>0.0</td>\n",
       "    </tr>\n",
       "  </tbody>\n",
       "</table>\n",
       "<p>5001 rows × 8 columns</p>\n",
       "</div>"
      ],
      "text/plain": [
       "                       government    men     man  women   woman    race  \\\n",
       "00_Document Frequency     2025.00  281.0  401.00  136.0  159.00  243.00   \n",
       "1033269                      0.02    0.0    0.00    0.0    0.00    0.00   \n",
       "1033272                      0.00    0.0    0.00    0.0    0.01    0.00   \n",
       "1033797                      0.00    0.0    0.01    0.0    0.00    0.01   \n",
       "1034152                      0.00    0.0    0.00    0.0    0.00    0.00   \n",
       "...                           ...    ...     ...    ...     ...     ...   \n",
       "950558                       0.00    0.0    0.00    0.0    0.00    0.00   \n",
       "981                          0.00    0.0    0.00    0.0    0.00    0.00   \n",
       "984810                       0.00    0.0    0.00    0.0    0.00    0.00   \n",
       "985209                       0.00    0.0    0.00    0.0    0.00    0.00   \n",
       "987030                       0.01    0.0    0.00    0.0    0.00    0.00   \n",
       "\n",
       "                        rights  children  \n",
       "00_Document Frequency  2193.00     303.0  \n",
       "1033269                   0.00       0.0  \n",
       "1033272                   0.02       0.0  \n",
       "1033797                   0.01       0.0  \n",
       "1034152                   0.00       0.0  \n",
       "...                        ...       ...  \n",
       "950558                    0.00       0.0  \n",
       "981                       0.00       0.0  \n",
       "984810                    0.01       0.0  \n",
       "985209                    0.00       0.0  \n",
       "987030                    0.00       0.0  \n",
       "\n",
       "[5001 rows x 8 columns]"
      ]
     },
     "execution_count": 26,
     "metadata": {},
     "output_type": "execute_result"
    }
   ],
   "source": [
    "tfidf_df.loc['00_Document Frequency'] = (tfidf_df > 0).sum()\n",
    "tfidf_slice = tfidf_df[['government', 'men', 'man', 'women', 'woman', 'race','rights', 'children']]\n",
    "tfidf_slice.sort_index().round(decimals=2)"
   ]
  },
  {
   "cell_type": "code",
   "execution_count": null,
   "id": "f1d81d56-994c-447b-80e6-b2a97ad33263",
   "metadata": {},
   "outputs": [],
   "source": [
    "top_tfidf = tfidf_df.sort_values(by=['document','tfidf'], ascending=[True,False]).groupby(['document']).head(10)"
   ]
  },
  {
   "cell_type": "code",
   "execution_count": 29,
   "id": "122d7804-b969-4a3e-bccb-15ff2a92baf3",
   "metadata": {},
   "outputs": [
    {
     "ename": "KeyboardInterrupt",
     "evalue": "",
     "output_type": "error",
     "traceback": [
      "\u001b[0;31m---------------------------------------------------------------------------\u001b[0m",
      "\u001b[0;31mKeyboardInterrupt\u001b[0m                         Traceback (most recent call last)",
      "    \u001b[0;31m[... skipping hidden 1 frame]\u001b[0m\n",
      "\u001b[0;32m<ipython-input-29-78026403a7aa>\u001b[0m in \u001b[0;36m<module>\u001b[0;34m\u001b[0m\n\u001b[0;32m----> 1\u001b[0;31m \u001b[0mtfidf_df\u001b[0m\u001b[0;34m.\u001b[0m\u001b[0mstack\u001b[0m\u001b[0;34m(\u001b[0m\u001b[0;34m)\u001b[0m\u001b[0;34m.\u001b[0m\u001b[0mreset_index\u001b[0m\u001b[0;34m(\u001b[0m\u001b[0;34m)\u001b[0m\u001b[0;34m\u001b[0m\u001b[0;34m\u001b[0m\u001b[0m\n\u001b[0m\u001b[1;32m      2\u001b[0m \u001b[0mtfidf_df\u001b[0m \u001b[0;34m=\u001b[0m \u001b[0mtfidf_df\u001b[0m\u001b[0;34m.\u001b[0m\u001b[0mrename\u001b[0m\u001b[0;34m(\u001b[0m\u001b[0mcolumns\u001b[0m\u001b[0;34m=\u001b[0m\u001b[0;34m{\u001b[0m\u001b[0;36m0\u001b[0m\u001b[0;34m:\u001b[0m\u001b[0;34m'tfidf'\u001b[0m\u001b[0;34m,\u001b[0m \u001b[0;34m'level_0'\u001b[0m\u001b[0;34m:\u001b[0m \u001b[0;34m'document'\u001b[0m\u001b[0;34m,\u001b[0m\u001b[0;34m'level_1'\u001b[0m\u001b[0;34m:\u001b[0m \u001b[0;34m'term'\u001b[0m\u001b[0;34m,\u001b[0m \u001b[0;34m'level_2'\u001b[0m\u001b[0;34m:\u001b[0m \u001b[0;34m'term'\u001b[0m\u001b[0;34m}\u001b[0m\u001b[0;34m)\u001b[0m\u001b[0;34m\u001b[0m\u001b[0;34m\u001b[0m\u001b[0m\n",
      "\u001b[0;32m/opt/anaconda3/lib/python3.8/site-packages/pandas/core/series.py\u001b[0m in \u001b[0;36mreset_index\u001b[0;34m(self, level, drop, name, inplace)\u001b[0m\n\u001b[1;32m   1277\u001b[0m             \u001b[0mdf\u001b[0m \u001b[0;34m=\u001b[0m \u001b[0mself\u001b[0m\u001b[0;34m.\u001b[0m\u001b[0mto_frame\u001b[0m\u001b[0;34m(\u001b[0m\u001b[0mname\u001b[0m\u001b[0;34m)\u001b[0m\u001b[0;34m\u001b[0m\u001b[0;34m\u001b[0m\u001b[0m\n\u001b[0;32m-> 1278\u001b[0;31m             \u001b[0;32mreturn\u001b[0m \u001b[0mdf\u001b[0m\u001b[0;34m.\u001b[0m\u001b[0mreset_index\u001b[0m\u001b[0;34m(\u001b[0m\u001b[0mlevel\u001b[0m\u001b[0;34m=\u001b[0m\u001b[0mlevel\u001b[0m\u001b[0;34m,\u001b[0m \u001b[0mdrop\u001b[0m\u001b[0;34m=\u001b[0m\u001b[0mdrop\u001b[0m\u001b[0;34m)\u001b[0m\u001b[0;34m\u001b[0m\u001b[0;34m\u001b[0m\u001b[0m\n\u001b[0m\u001b[1;32m   1279\u001b[0m \u001b[0;34m\u001b[0m\u001b[0m\n",
      "\u001b[0;32m/opt/anaconda3/lib/python3.8/site-packages/pandas/core/frame.py\u001b[0m in \u001b[0;36mreset_index\u001b[0;34m(self, level, drop, inplace, col_level, col_fill)\u001b[0m\n\u001b[1;32m   5014\u001b[0m                 \u001b[0;31m# to ndarray and maybe infer different dtype\u001b[0m\u001b[0;34m\u001b[0m\u001b[0;34m\u001b[0m\u001b[0;34m\u001b[0m\u001b[0m\n\u001b[0;32m-> 5015\u001b[0;31m                 \u001b[0mlevel_values\u001b[0m \u001b[0;34m=\u001b[0m \u001b[0mmaybe_casted_values\u001b[0m\u001b[0;34m(\u001b[0m\u001b[0mlev\u001b[0m\u001b[0;34m,\u001b[0m \u001b[0mlab\u001b[0m\u001b[0;34m)\u001b[0m\u001b[0;34m\u001b[0m\u001b[0;34m\u001b[0m\u001b[0m\n\u001b[0m\u001b[1;32m   5016\u001b[0m                 \u001b[0mnew_obj\u001b[0m\u001b[0;34m.\u001b[0m\u001b[0minsert\u001b[0m\u001b[0;34m(\u001b[0m\u001b[0;36m0\u001b[0m\u001b[0;34m,\u001b[0m \u001b[0mname\u001b[0m\u001b[0;34m,\u001b[0m \u001b[0mlevel_values\u001b[0m\u001b[0;34m)\u001b[0m\u001b[0;34m\u001b[0m\u001b[0;34m\u001b[0m\u001b[0m\n",
      "\u001b[0;32m/opt/anaconda3/lib/python3.8/site-packages/pandas/core/dtypes/cast.py\u001b[0m in \u001b[0;36mmaybe_casted_values\u001b[0;34m(index, codes)\u001b[0m\n\u001b[1;32m    530\u001b[0m         \u001b[0;32melse\u001b[0m\u001b[0;34m:\u001b[0m\u001b[0;34m\u001b[0m\u001b[0;34m\u001b[0m\u001b[0m\n\u001b[0;32m--> 531\u001b[0;31m             \u001b[0mvalues\u001b[0m \u001b[0;34m=\u001b[0m \u001b[0mvalues\u001b[0m\u001b[0;34m.\u001b[0m\u001b[0mtake\u001b[0m\u001b[0;34m(\u001b[0m\u001b[0mcodes\u001b[0m\u001b[0;34m)\u001b[0m\u001b[0;34m\u001b[0m\u001b[0;34m\u001b[0m\u001b[0m\n\u001b[0m\u001b[1;32m    532\u001b[0m \u001b[0;34m\u001b[0m\u001b[0m\n",
      "\u001b[0;31mKeyboardInterrupt\u001b[0m: ",
      "\nDuring handling of the above exception, another exception occurred:\n",
      "\u001b[0;31mKeyboardInterrupt\u001b[0m                         Traceback (most recent call last)",
      "\u001b[0;31mKeyboardInterrupt\u001b[0m: "
     ]
    }
   ],
   "source": [
    "tfidf_df.stack().reset_index()\n",
    "tfidf_df = tfidf_df.rename(columns={0:'tfidf', 'level_0': 'document','level_1': 'term', 'level_2': 'term'})"
   ]
  },
  {
   "cell_type": "code",
   "execution_count": null,
   "id": "036daaa6-213b-49ef-beb7-3f3df5024e2b",
   "metadata": {},
   "outputs": [],
   "source": [
    "!pip install altair\n",
    "import altair as alt\n",
    "import numpy as np\n",
    "\n",
    "# Terms in this list will get a red dot in the visualization\n",
    "term_list = ['war', 'peace']\n",
    "\n",
    "# adding a little randomness to break ties in term ranking\n",
    "top_tfidf_plusRand = top_tfidf.copy()\n",
    "top_tfidf_plusRand['tfidf'] = top_tfidf_plusRand['tfidf'] + np.random.rand(top_tfidf.shape[0])*0.0001\n",
    "\n",
    "# base for all visualizations, with rank calculation\n",
    "base = alt.Chart(top_tfidf_plusRand).encode(\n",
    "    x = 'rank:O',\n",
    "    y = 'document:N'\n",
    ").transform_window(\n",
    "    rank = \"rank()\",\n",
    "    sort = [alt.SortField(\"tfidf\", order=\"descending\")],\n",
    "    groupby = [\"document\"],\n",
    ")\n",
    "\n",
    "# heatmap specification\n",
    "heatmap = base.mark_rect().encode(\n",
    "    color = 'tfidf:Q'\n",
    ")\n",
    "\n",
    "# red circle over terms in above list\n",
    "circle = base.mark_circle(size=100).encode(\n",
    "    color = alt.condition(\n",
    "        alt.FieldOneOfPredicate(field='term', oneOf=term_list),\n",
    "        alt.value('red'),\n",
    "        alt.value('#FFFFFF00')        \n",
    "    )\n",
    ")\n",
    "\n",
    "# text labels, white for darker heatmap colors\n",
    "text = base.mark_text(baseline='middle').encode(\n",
    "    text = 'term:N',\n",
    "    color = alt.condition(alt.datum.tfidf >= 0.23, alt.value('white'), alt.value('black'))\n",
    ")\n",
    "\n",
    "# display the three superimposed visualizations\n",
    "(heatmap + circle + text).properties(width = 600)"
   ]
  }
 ],
 "metadata": {
  "kernelspec": {
   "display_name": "Python 3",
   "language": "python",
   "name": "python3"
  },
  "language_info": {
   "codemirror_mode": {
    "name": "ipython",
    "version": 3
   },
   "file_extension": ".py",
   "mimetype": "text/x-python",
   "name": "python",
   "nbconvert_exporter": "python",
   "pygments_lexer": "ipython3",
   "version": "3.8.8"
  }
 },
 "nbformat": 4,
 "nbformat_minor": 5
}
