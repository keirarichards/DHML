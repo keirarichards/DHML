{
 "cells": [
  {
   "cell_type": "markdown",
   "id": "dbbb069b-91ab-41d7-8317-85bfef7b336a",
   "metadata": {},
   "source": [
    "## Word2Vec Embedding with CA10 Opinions"
   ]
  },
  {
   "cell_type": "markdown",
   "id": "0c09d259-11b2-4008-b4aa-072daa42daeb",
   "metadata": {},
   "source": [
    "I used a combination of this [tutorial](https://www.shanelynn.ie/word-embeddings-in-python-with-spacy-and-gensim/) and a little bit of [this one](https://machinelearningmastery.com/develop-word-embeddings-python-gensim/) in a desperate attempt to get it to work. I also used [this](https://radimrehurek.com/gensim/models/word2vec.html) in an effort to trouble shoot gensim syntax"
   ]
  },
  {
   "cell_type": "code",
   "execution_count": 37,
   "id": "21439370-fb5e-42cc-8472-653c40bceb97",
   "metadata": {
    "tags": []
   },
   "outputs": [],
   "source": [
    "import os\n",
    "import io\n",
    "import string\n",
    "import tqdm\n",
    "import numpy as np\n",
    "import sys\n",
    "import re\n",
    "import random\n",
    "from gensim.models import Word2Vec\n",
    "from gensim.similarities import Similarity\n",
    "from gensim.models.phrases import Phraser, Phrases\n",
    "import gensim, logging\n",
    "logging.basicConfig(format='%(asctime)s : %(levelname)s : %(message)s', level=logging.INFO)\n",
    " "
   ]
  },
  {
   "cell_type": "code",
   "execution_count": 26,
   "id": "9a50fdb2-c2f6-4091-ac4a-792398b9b722",
   "metadata": {},
   "outputs": [
    {
     "name": "stdout",
     "output_type": "stream",
     "text": [
      "Found 5000 texts.\n"
     ]
    }
   ],
   "source": [
    "#import a sample texts into one massive list\n",
    "#I know I wont be able to decern which case is which but ¯\\_(ツ)_/¯ thats future Keira's problem\n",
    "corpus=[]\n",
    "ca10='ca10/'\n",
    "file_sample=random.sample(os.listdir(ca10), 5000)\n",
    "for file_name in file_sample:\n",
    "    file=os.path.join(ca10,file_name)\n",
    "    txt=open(file, encoding='latin-1').read()\n",
    "    corpus.append(txt)\n",
    "    \n",
    "\n",
    "print('Found %s texts.' % len(corpus))\n"
   ]
  },
  {
   "cell_type": "code",
   "execution_count": 27,
   "id": "56a2a66a-6531-44ff-8ab5-390134c4df5e",
   "metadata": {},
   "outputs": [],
   "source": [
    "#yay data cleaning\n",
    "sentences = []\n",
    "for ii in range(len(corpus)):\n",
    "    sentences = [re.sub(pattern=r'[\\!\"#$%&\\*+,-./:;<=>?@^_`()|~=]', \n",
    "                        repl='', \n",
    "                        string=x\n",
    "                       ).strip().split(' ') for x in corpus[ii].split('\\\\n') \n",
    "                      if not x.endswith('writes:')]\n",
    "    sentences = [x for x in sentences if x != ['']]\n",
    "    corpus[ii] = sentences"
   ]
  },
  {
   "cell_type": "code",
   "execution_count": 28,
   "id": "5a3e6b8a-e971-49f6-b916-d039242e871e",
   "metadata": {},
   "outputs": [],
   "source": [
    "all_sentences = []\n",
    "for text in corpus:\n",
    "    all_sentences += text"
   ]
  },
  {
   "cell_type": "code",
   "execution_count": 30,
   "id": "42420bfd-3a9f-4bcc-acfb-d3763ebb295a",
   "metadata": {},
   "outputs": [
    {
     "name": "stderr",
     "output_type": "stream",
     "text": [
      "2022-04-05 08:04:27,628 : INFO : collecting all words and their counts\n",
      "2022-04-05 08:04:27,631 : INFO : PROGRESS: at sentence #0, processed 0 words and 0 word types\n",
      "2022-04-05 08:04:27,937 : INFO : PROGRESS: at sentence #10000, processed 180251 words and 54007 word types\n",
      "2022-04-05 08:04:28,186 : INFO : PROGRESS: at sentence #20000, processed 359648 words and 100150 word types\n",
      "2022-04-05 08:04:28,399 : INFO : PROGRESS: at sentence #30000, processed 516345 words and 133189 word types\n",
      "2022-04-05 08:04:28,628 : INFO : PROGRESS: at sentence #40000, processed 678364 words and 169003 word types\n",
      "2022-04-05 08:04:28,916 : INFO : PROGRESS: at sentence #50000, processed 867579 words and 207621 word types\n",
      "2022-04-05 08:04:29,202 : INFO : PROGRESS: at sentence #60000, processed 1037146 words and 241592 word types\n",
      "2022-04-05 08:04:29,435 : INFO : PROGRESS: at sentence #70000, processed 1197460 words and 272495 word types\n",
      "2022-04-05 08:04:29,711 : INFO : PROGRESS: at sentence #80000, processed 1383256 words and 304070 word types\n",
      "2022-04-05 08:04:30,024 : INFO : PROGRESS: at sentence #90000, processed 1530334 words and 331927 word types\n",
      "2022-04-05 08:04:30,318 : INFO : PROGRESS: at sentence #100000, processed 1696366 words and 359119 word types\n",
      "2022-04-05 08:04:30,618 : INFO : PROGRESS: at sentence #110000, processed 1904582 words and 397680 word types\n",
      "2022-04-05 08:04:30,881 : INFO : PROGRESS: at sentence #120000, processed 2088238 words and 427469 word types\n",
      "2022-04-05 08:04:31,075 : INFO : PROGRESS: at sentence #130000, processed 2224778 words and 453712 word types\n",
      "2022-04-05 08:04:31,349 : INFO : PROGRESS: at sentence #140000, processed 2415857 words and 482017 word types\n",
      "2022-04-05 08:04:31,581 : INFO : PROGRESS: at sentence #150000, processed 2578503 words and 506995 word types\n",
      "2022-04-05 08:04:31,789 : INFO : PROGRESS: at sentence #160000, processed 2721342 words and 527562 word types\n",
      "2022-04-05 08:04:32,015 : INFO : PROGRESS: at sentence #170000, processed 2875320 words and 548969 word types\n",
      "2022-04-05 08:04:32,290 : INFO : PROGRESS: at sentence #180000, processed 3058934 words and 579029 word types\n",
      "2022-04-05 08:04:32,538 : INFO : PROGRESS: at sentence #190000, processed 3224181 words and 601851 word types\n",
      "2022-04-05 08:04:32,798 : INFO : PROGRESS: at sentence #200000, processed 3396673 words and 624656 word types\n",
      "2022-04-05 08:04:33,022 : INFO : PROGRESS: at sentence #210000, processed 3545658 words and 644913 word types\n",
      "2022-04-05 08:04:33,279 : INFO : PROGRESS: at sentence #220000, processed 3714339 words and 668160 word types\n",
      "2022-04-05 08:04:33,530 : INFO : PROGRESS: at sentence #230000, processed 3880041 words and 690943 word types\n",
      "2022-04-05 08:04:33,835 : INFO : PROGRESS: at sentence #240000, processed 4038946 words and 712041 word types\n",
      "2022-04-05 08:04:34,042 : INFO : PROGRESS: at sentence #250000, processed 4176121 words and 730945 word types\n",
      "2022-04-05 08:04:34,292 : INFO : PROGRESS: at sentence #260000, processed 4340025 words and 753201 word types\n",
      "2022-04-05 08:04:34,548 : INFO : PROGRESS: at sentence #270000, processed 4507197 words and 774162 word types\n",
      "2022-04-05 08:04:34,762 : INFO : PROGRESS: at sentence #280000, processed 4645319 words and 792897 word types\n",
      "2022-04-05 08:04:35,045 : INFO : PROGRESS: at sentence #290000, processed 4822948 words and 815091 word types\n",
      "2022-04-05 08:04:35,274 : INFO : PROGRESS: at sentence #300000, processed 4968305 words and 833767 word types\n",
      "2022-04-05 08:04:35,517 : INFO : PROGRESS: at sentence #310000, processed 5129882 words and 854865 word types\n",
      "2022-04-05 08:04:35,770 : INFO : PROGRESS: at sentence #320000, processed 5292422 words and 874325 word types\n",
      "2022-04-05 08:04:36,012 : INFO : PROGRESS: at sentence #330000, processed 5447602 words and 893043 word types\n",
      "2022-04-05 08:04:36,308 : INFO : PROGRESS: at sentence #340000, processed 5638762 words and 918362 word types\n",
      "2022-04-05 08:04:36,587 : INFO : PROGRESS: at sentence #350000, processed 5819051 words and 939837 word types\n",
      "2022-04-05 08:04:36,835 : INFO : PROGRESS: at sentence #360000, processed 5982049 words and 959075 word types\n",
      "2022-04-05 08:04:37,070 : INFO : PROGRESS: at sentence #370000, processed 6134316 words and 976214 word types\n",
      "2022-04-05 08:04:37,292 : INFO : PROGRESS: at sentence #380000, processed 6273982 words and 993879 word types\n",
      "2022-04-05 08:04:37,584 : INFO : PROGRESS: at sentence #390000, processed 6460317 words and 1016340 word types\n",
      "2022-04-05 08:04:37,858 : INFO : PROGRESS: at sentence #400000, processed 6625040 words and 1035382 word types\n",
      "2022-04-05 08:04:38,144 : INFO : PROGRESS: at sentence #410000, processed 6806369 words and 1057672 word types\n",
      "2022-04-05 08:04:38,370 : INFO : PROGRESS: at sentence #420000, processed 6946233 words and 1075435 word types\n",
      "2022-04-05 08:04:38,831 : INFO : PROGRESS: at sentence #430000, processed 7124581 words and 1095289 word types\n",
      "2022-04-05 08:04:39,256 : INFO : PROGRESS: at sentence #440000, processed 7311639 words and 1117582 word types\n",
      "2022-04-05 08:04:39,830 : INFO : PROGRESS: at sentence #450000, processed 7481668 words and 1136261 word types\n",
      "2022-04-05 08:04:40,204 : INFO : PROGRESS: at sentence #460000, processed 7644691 words and 1156983 word types\n",
      "2022-04-05 08:04:40,526 : INFO : PROGRESS: at sentence #470000, processed 7799497 words and 1175352 word types\n",
      "2022-04-05 08:04:40,874 : INFO : PROGRESS: at sentence #480000, processed 8022871 words and 1204039 word types\n",
      "2022-04-05 08:04:41,139 : INFO : PROGRESS: at sentence #490000, processed 8196342 words and 1222846 word types\n",
      "2022-04-05 08:04:41,400 : INFO : PROGRESS: at sentence #500000, processed 8351496 words and 1239799 word types\n",
      "2022-04-05 08:04:41,681 : INFO : PROGRESS: at sentence #510000, processed 8527433 words and 1259778 word types\n",
      "2022-04-05 08:04:41,985 : INFO : PROGRESS: at sentence #520000, processed 8688189 words and 1275542 word types\n",
      "2022-04-05 08:04:42,379 : INFO : PROGRESS: at sentence #530000, processed 8863582 words and 1299230 word types\n",
      "2022-04-05 08:04:42,806 : INFO : PROGRESS: at sentence #540000, processed 9040188 words and 1315657 word types\n",
      "2022-04-05 08:04:43,075 : INFO : PROGRESS: at sentence #550000, processed 9196940 words and 1332721 word types\n",
      "2022-04-05 08:04:43,316 : INFO : PROGRESS: at sentence #560000, processed 9347902 words and 1349097 word types\n",
      "2022-04-05 08:04:43,618 : INFO : PROGRESS: at sentence #570000, processed 9550327 words and 1367920 word types\n",
      "2022-04-05 08:04:43,939 : INFO : PROGRESS: at sentence #580000, processed 9740217 words and 1389206 word types\n",
      "2022-04-05 08:04:44,282 : INFO : PROGRESS: at sentence #590000, processed 9901266 words and 1406794 word types\n",
      "2022-04-05 08:04:44,545 : INFO : PROGRESS: at sentence #600000, processed 10068728 words and 1425993 word types\n",
      "2022-04-05 08:04:44,818 : INFO : PROGRESS: at sentence #610000, processed 10249891 words and 1445132 word types\n",
      "2022-04-05 08:04:45,079 : INFO : PROGRESS: at sentence #620000, processed 10415824 words and 1463276 word types\n",
      "2022-04-05 08:04:45,326 : INFO : PROGRESS: at sentence #630000, processed 10579454 words and 1480425 word types\n",
      "2022-04-05 08:04:45,573 : INFO : PROGRESS: at sentence #640000, processed 10746120 words and 1498174 word types\n",
      "2022-04-05 08:04:45,815 : INFO : PROGRESS: at sentence #650000, processed 10904491 words and 1517277 word types\n",
      "2022-04-05 08:04:46,088 : INFO : PROGRESS: at sentence #660000, processed 11079578 words and 1535111 word types\n",
      "2022-04-05 08:04:46,349 : INFO : PROGRESS: at sentence #670000, processed 11240915 words and 1550550 word types\n",
      "2022-04-05 08:04:46,604 : INFO : PROGRESS: at sentence #680000, processed 11382131 words and 1565433 word types\n",
      "2022-04-05 08:04:46,872 : INFO : PROGRESS: at sentence #690000, processed 11546301 words and 1582313 word types\n",
      "2022-04-05 08:04:47,096 : INFO : PROGRESS: at sentence #700000, processed 11693507 words and 1596647 word types\n",
      "2022-04-05 08:04:47,337 : INFO : PROGRESS: at sentence #710000, processed 11852586 words and 1612828 word types\n",
      "2022-04-05 08:04:47,571 : INFO : PROGRESS: at sentence #720000, processed 12020296 words and 1631873 word types\n",
      "2022-04-05 08:04:47,825 : INFO : PROGRESS: at sentence #730000, processed 12195274 words and 1649268 word types\n",
      "2022-04-05 08:04:48,026 : INFO : PROGRESS: at sentence #740000, processed 12337732 words and 1668876 word types\n",
      "2022-04-05 08:04:48,252 : INFO : PROGRESS: at sentence #750000, processed 12499076 words and 1681585 word types\n",
      "2022-04-05 08:04:48,531 : INFO : PROGRESS: at sentence #760000, processed 12698907 words and 1702383 word types\n",
      "2022-04-05 08:04:48,781 : INFO : PROGRESS: at sentence #770000, processed 12878746 words and 1721214 word types\n",
      "2022-04-05 08:04:48,990 : INFO : PROGRESS: at sentence #780000, processed 13027256 words and 1735695 word types\n",
      "2022-04-05 08:04:49,256 : INFO : PROGRESS: at sentence #790000, processed 13178694 words and 1748686 word types\n",
      "2022-04-05 08:04:49,595 : INFO : PROGRESS: at sentence #800000, processed 13343341 words and 1765037 word types\n",
      "2022-04-05 08:04:49,958 : INFO : PROGRESS: at sentence #810000, processed 13503291 words and 1778944 word types\n",
      "2022-04-05 08:04:50,347 : INFO : PROGRESS: at sentence #820000, processed 13712317 words and 1799778 word types\n",
      "2022-04-05 08:04:50,578 : INFO : PROGRESS: at sentence #830000, processed 13876785 words and 1814693 word types\n",
      "2022-04-05 08:04:50,822 : INFO : PROGRESS: at sentence #840000, processed 14044836 words and 1830907 word types\n",
      "2022-04-05 08:04:51,046 : INFO : PROGRESS: at sentence #850000, processed 14191855 words and 1845911 word types\n",
      "2022-04-05 08:04:51,370 : INFO : PROGRESS: at sentence #860000, processed 14347495 words and 1860529 word types\n",
      "2022-04-05 08:04:51,744 : INFO : PROGRESS: at sentence #870000, processed 14514456 words and 1879063 word types\n",
      "2022-04-05 08:04:52,202 : INFO : PROGRESS: at sentence #880000, processed 14703471 words and 1899000 word types\n",
      "2022-04-05 08:04:52,561 : INFO : PROGRESS: at sentence #890000, processed 14865308 words and 1914376 word types\n",
      "2022-04-05 08:04:52,879 : INFO : PROGRESS: at sentence #900000, processed 15055239 words and 1933202 word types\n",
      "2022-04-05 08:04:53,138 : INFO : PROGRESS: at sentence #910000, processed 15234410 words and 1950320 word types\n",
      "2022-04-05 08:04:53,347 : INFO : PROGRESS: at sentence #920000, processed 15380713 words and 1963370 word types\n",
      "2022-04-05 08:04:53,563 : INFO : PROGRESS: at sentence #930000, processed 15522160 words and 1977806 word types\n",
      "2022-04-05 08:04:53,806 : INFO : PROGRESS: at sentence #940000, processed 15675952 words and 1993371 word types\n",
      "2022-04-05 08:04:54,054 : INFO : PROGRESS: at sentence #950000, processed 15841744 words and 2009697 word types\n",
      "2022-04-05 08:04:54,305 : INFO : PROGRESS: at sentence #960000, processed 15989911 words and 2022371 word types\n",
      "2022-04-05 08:04:54,629 : INFO : PROGRESS: at sentence #970000, processed 16136624 words and 2037253 word types\n",
      "2022-04-05 08:04:54,907 : INFO : PROGRESS: at sentence #980000, processed 16258517 words and 2049996 word types\n",
      "2022-04-05 08:04:55,213 : INFO : PROGRESS: at sentence #990000, processed 16398582 words and 2063567 word types\n",
      "2022-04-05 08:04:55,509 : INFO : PROGRESS: at sentence #1000000, processed 16541970 words and 2079481 word types\n",
      "2022-04-05 08:04:55,823 : INFO : PROGRESS: at sentence #1010000, processed 16697229 words and 2092718 word types\n",
      "2022-04-05 08:04:56,079 : INFO : PROGRESS: at sentence #1020000, processed 16860666 words and 2107555 word types\n",
      "2022-04-05 08:04:56,331 : INFO : PROGRESS: at sentence #1030000, processed 17031432 words and 2124994 word types\n",
      "2022-04-05 08:04:56,545 : INFO : PROGRESS: at sentence #1040000, processed 17175481 words and 2136115 word types\n",
      "2022-04-05 08:04:56,788 : INFO : PROGRESS: at sentence #1050000, processed 17338923 words and 2151957 word types\n",
      "2022-04-05 08:04:57,043 : INFO : PROGRESS: at sentence #1060000, processed 17515077 words and 2167340 word types\n",
      "2022-04-05 08:04:57,275 : INFO : PROGRESS: at sentence #1070000, processed 17677832 words and 2183033 word types\n",
      "2022-04-05 08:04:57,497 : INFO : PROGRESS: at sentence #1080000, processed 17827605 words and 2196080 word types\n",
      "2022-04-05 08:04:57,755 : INFO : PROGRESS: at sentence #1090000, processed 18003694 words and 2212699 word types\n",
      "2022-04-05 08:04:57,994 : INFO : PROGRESS: at sentence #1100000, processed 18163080 words and 2226156 word types\n",
      "2022-04-05 08:04:58,232 : INFO : PROGRESS: at sentence #1110000, processed 18325015 words and 2240755 word types\n",
      "2022-04-05 08:04:58,504 : INFO : PROGRESS: at sentence #1120000, processed 18511695 words and 2258275 word types\n",
      "2022-04-05 08:04:58,754 : INFO : PROGRESS: at sentence #1130000, processed 18682964 words and 2272576 word types\n",
      "2022-04-05 08:04:59,010 : INFO : PROGRESS: at sentence #1140000, processed 18857193 words and 2290102 word types\n",
      "2022-04-05 08:04:59,253 : INFO : PROGRESS: at sentence #1150000, processed 19025806 words and 2304858 word types\n",
      "2022-04-05 08:04:59,524 : INFO : PROGRESS: at sentence #1160000, processed 19210993 words and 2323012 word types\n",
      "2022-04-05 08:04:59,732 : INFO : PROGRESS: at sentence #1170000, processed 19352301 words and 2335242 word types\n",
      "2022-04-05 08:05:00,005 : INFO : PROGRESS: at sentence #1180000, processed 19535361 words and 2352535 word types\n",
      "2022-04-05 08:05:00,238 : INFO : PROGRESS: at sentence #1190000, processed 19691418 words and 2367103 word types\n",
      "2022-04-05 08:05:00,499 : INFO : PROGRESS: at sentence #1200000, processed 19867349 words and 2383040 word types\n",
      "2022-04-05 08:05:00,761 : INFO : PROGRESS: at sentence #1210000, processed 20045517 words and 2398463 word types\n",
      "2022-04-05 08:05:01,134 : INFO : PROGRESS: at sentence #1220000, processed 20217523 words and 2414494 word types\n",
      "2022-04-05 08:05:01,507 : INFO : PROGRESS: at sentence #1230000, processed 20372549 words and 2428336 word types\n",
      "2022-04-05 08:05:01,915 : INFO : PROGRESS: at sentence #1240000, processed 20531420 words and 2443213 word types\n",
      "2022-04-05 08:05:02,455 : INFO : PROGRESS: at sentence #1250000, processed 20719419 words and 2458828 word types\n",
      "2022-04-05 08:05:02,840 : INFO : PROGRESS: at sentence #1260000, processed 20879083 words and 2472561 word types\n",
      "2022-04-05 08:05:03,160 : INFO : PROGRESS: at sentence #1270000, processed 21051824 words and 2486506 word types\n",
      "2022-04-05 08:05:03,381 : INFO : PROGRESS: at sentence #1280000, processed 21200887 words and 2499879 word types\n",
      "2022-04-05 08:05:03,645 : INFO : PROGRESS: at sentence #1290000, processed 21347094 words and 2514569 word types\n",
      "2022-04-05 08:05:04,016 : INFO : PROGRESS: at sentence #1300000, processed 21540007 words and 2531951 word types\n",
      "2022-04-05 08:05:04,260 : INFO : PROGRESS: at sentence #1310000, processed 21701395 words and 2545624 word types\n",
      "2022-04-05 08:05:04,525 : INFO : PROGRESS: at sentence #1320000, processed 21832309 words and 2557165 word types\n",
      "2022-04-05 08:05:04,896 : INFO : PROGRESS: at sentence #1330000, processed 21993287 words and 2570140 word types\n",
      "2022-04-05 08:05:05,392 : INFO : PROGRESS: at sentence #1340000, processed 22166355 words and 2585066 word types\n",
      "2022-04-05 08:05:05,955 : INFO : PROGRESS: at sentence #1350000, processed 22350281 words and 2600571 word types\n",
      "2022-04-05 08:05:06,370 : INFO : PROGRESS: at sentence #1360000, processed 22542389 words and 2619639 word types\n",
      "2022-04-05 08:05:06,757 : INFO : PROGRESS: at sentence #1370000, processed 22706733 words and 2633736 word types\n",
      "2022-04-05 08:05:07,060 : INFO : PROGRESS: at sentence #1380000, processed 22846611 words and 2644052 word types\n",
      "2022-04-05 08:05:07,464 : INFO : PROGRESS: at sentence #1390000, processed 23024805 words and 2658859 word types\n",
      "2022-04-05 08:05:07,774 : INFO : PROGRESS: at sentence #1400000, processed 23212282 words and 2675795 word types\n",
      "2022-04-05 08:05:07,988 : INFO : PROGRESS: at sentence #1410000, processed 23352725 words and 2687583 word types\n",
      "2022-04-05 08:05:08,268 : INFO : PROGRESS: at sentence #1420000, processed 23539399 words and 2701771 word types\n",
      "2022-04-05 08:05:08,527 : INFO : PROGRESS: at sentence #1430000, processed 23699734 words and 2715851 word types\n",
      "2022-04-05 08:05:08,792 : INFO : PROGRESS: at sentence #1440000, processed 23874047 words and 2729507 word types\n",
      "2022-04-05 08:05:09,052 : INFO : PROGRESS: at sentence #1450000, processed 24046471 words and 2745288 word types\n",
      "2022-04-05 08:05:09,301 : INFO : PROGRESS: at sentence #1460000, processed 24208946 words and 2759961 word types\n",
      "2022-04-05 08:05:09,529 : INFO : PROGRESS: at sentence #1470000, processed 24360558 words and 2773387 word types\n",
      "2022-04-05 08:05:09,749 : INFO : PROGRESS: at sentence #1480000, processed 24496744 words and 2784087 word types\n",
      "2022-04-05 08:05:10,373 : INFO : PROGRESS: at sentence #1490000, processed 24659987 words and 2797223 word types\n",
      "2022-04-05 08:05:10,596 : INFO : PROGRESS: at sentence #1500000, processed 24800397 words and 2809311 word types\n",
      "2022-04-05 08:05:10,854 : INFO : PROGRESS: at sentence #1510000, processed 24964094 words and 2823339 word types\n",
      "2022-04-05 08:05:11,136 : INFO : PROGRESS: at sentence #1520000, processed 25143453 words and 2837669 word types\n",
      "2022-04-05 08:05:11,418 : INFO : PROGRESS: at sentence #1530000, processed 25317265 words and 2851972 word types\n",
      "2022-04-05 08:05:11,679 : INFO : PROGRESS: at sentence #1540000, processed 25479220 words and 2865075 word types\n",
      "2022-04-05 08:05:12,015 : INFO : PROGRESS: at sentence #1550000, processed 25677372 words and 2882912 word types\n",
      "2022-04-05 08:05:12,324 : INFO : PROGRESS: at sentence #1560000, processed 25852389 words and 2897126 word types\n",
      "2022-04-05 08:05:12,575 : INFO : PROGRESS: at sentence #1570000, processed 26012834 words and 2910298 word types\n",
      "2022-04-05 08:05:12,820 : INFO : PROGRESS: at sentence #1580000, processed 26184539 words and 2923905 word types\n",
      "2022-04-05 08:05:13,111 : INFO : PROGRESS: at sentence #1590000, processed 26386234 words and 2940184 word types\n",
      "2022-04-05 08:05:13,312 : INFO : PROGRESS: at sentence #1600000, processed 26527017 words and 2952067 word types\n",
      "2022-04-05 08:05:13,592 : INFO : PROGRESS: at sentence #1610000, processed 26719176 words and 2970181 word types\n",
      "2022-04-05 08:05:13,835 : INFO : PROGRESS: at sentence #1620000, processed 26887072 words and 2983803 word types\n",
      "2022-04-05 08:05:14,075 : INFO : PROGRESS: at sentence #1630000, processed 27052867 words and 2997248 word types\n",
      "2022-04-05 08:05:14,266 : INFO : PROGRESS: at sentence #1640000, processed 27184461 words and 3008554 word types\n",
      "2022-04-05 08:05:14,473 : INFO : PROGRESS: at sentence #1650000, processed 27328044 words and 3020368 word types\n",
      "2022-04-05 08:05:14,733 : INFO : PROGRESS: at sentence #1660000, processed 27508377 words and 3035108 word types\n",
      "2022-04-05 08:05:15,027 : INFO : PROGRESS: at sentence #1670000, processed 27710820 words and 3052732 word types\n",
      "2022-04-05 08:05:15,220 : INFO : PROGRESS: at sentence #1680000, processed 27843700 words and 3062557 word types\n",
      "2022-04-05 08:05:15,449 : INFO : PROGRESS: at sentence #1690000, processed 28004028 words and 3075967 word types\n",
      "2022-04-05 08:05:15,677 : INFO : PROGRESS: at sentence #1700000, processed 28162711 words and 3088314 word types\n",
      "2022-04-05 08:05:15,906 : INFO : PROGRESS: at sentence #1710000, processed 28316295 words and 3101231 word types\n",
      "2022-04-05 08:05:16,137 : INFO : PROGRESS: at sentence #1720000, processed 28470566 words and 3113967 word types\n",
      "2022-04-05 08:05:16,365 : INFO : PROGRESS: at sentence #1730000, processed 28631207 words and 3126908 word types\n",
      "2022-04-05 08:05:16,584 : INFO : PROGRESS: at sentence #1740000, processed 28788084 words and 3138063 word types\n",
      "2022-04-05 08:05:16,824 : INFO : PROGRESS: at sentence #1750000, processed 28960379 words and 3152441 word types\n",
      "2022-04-05 08:05:17,039 : INFO : PROGRESS: at sentence #1760000, processed 29108840 words and 3163337 word types\n",
      "2022-04-05 08:05:17,280 : INFO : PROGRESS: at sentence #1770000, processed 29281346 words and 3176265 word types\n",
      "2022-04-05 08:05:17,580 : INFO : PROGRESS: at sentence #1780000, processed 29489149 words and 3195043 word types\n",
      "2022-04-05 08:05:17,841 : INFO : PROGRESS: at sentence #1790000, processed 29668848 words and 3208006 word types\n",
      "2022-04-05 08:05:18,081 : INFO : PROGRESS: at sentence #1800000, processed 29810288 words and 3219754 word types\n",
      "2022-04-05 08:05:18,354 : INFO : PROGRESS: at sentence #1810000, processed 29969992 words and 3231032 word types\n",
      "2022-04-05 08:05:18,640 : INFO : PROGRESS: at sentence #1820000, processed 30143019 words and 3245373 word types\n",
      "2022-04-05 08:05:18,917 : INFO : PROGRESS: at sentence #1830000, processed 30311136 words and 3257740 word types\n",
      "2022-04-05 08:05:19,220 : INFO : PROGRESS: at sentence #1840000, processed 30465800 words and 3272876 word types\n",
      "2022-04-05 08:05:19,665 : INFO : PROGRESS: at sentence #1850000, processed 30630102 words and 3284410 word types\n",
      "2022-04-05 08:05:20,006 : INFO : PROGRESS: at sentence #1860000, processed 30772483 words and 3295420 word types\n",
      "2022-04-05 08:05:21,300 : INFO : PROGRESS: at sentence #1870000, processed 30936650 words and 3306561 word types\n",
      "2022-04-05 08:05:22,650 : INFO : PROGRESS: at sentence #1880000, processed 31128635 words and 3322514 word types\n",
      "2022-04-05 08:05:23,281 : INFO : PROGRESS: at sentence #1890000, processed 31258264 words and 3333087 word types\n",
      "2022-04-05 08:05:23,479 : INFO : collected 3339905 token types (unigram + bigrams) from a corpus of 31356688 words and 1896428 sentences\n",
      "2022-04-05 08:05:23,480 : INFO : merged Phrases<3339905 vocab, min_count=5, threshold=10.0, max_vocab_size=40000000>\n",
      "2022-04-05 08:05:23,611 : INFO : Phrases lifecycle event {'msg': 'built Phrases<3339905 vocab, min_count=5, threshold=10.0, max_vocab_size=40000000> in 55.86s', 'datetime': '2022-04-05T08:05:23.484997', 'gensim': '4.1.2', 'python': '3.8.8 (default, Apr 13 2021, 12:59:45) \\n[Clang 10.0.0 ]', 'platform': 'macOS-10.14.6-x86_64-i386-64bit', 'event': 'created'}\n",
      "2022-04-05 08:05:23,614 : INFO : exporting phrases from Phrases<3339905 vocab, min_count=5, threshold=10.0, max_vocab_size=40000000>\n",
      "2022-04-05 08:05:39,146 : INFO : FrozenPhrases lifecycle event {'msg': 'exported FrozenPhrases<96208 phrases, min_count=5, threshold=10.0> from Phrases<3339905 vocab, min_count=5, threshold=10.0, max_vocab_size=40000000> in 15.53s', 'datetime': '2022-04-05T08:05:39.146092', 'gensim': '4.1.2', 'python': '3.8.8 (default, Apr 13 2021, 12:59:45) \\n[Clang 10.0.0 ]', 'platform': 'macOS-10.14.6-x86_64-i386-64bit', 'event': 'created'}\n"
     ]
    }
   ],
   "source": [
    "common_terms = [\"of\", \"with\", \"without\", \"and\", \"or\", \"the\", \"a\"]\n",
    "phrases = Phrases(all_sentences)\n",
    "bigram = Phraser(phrases)\n",
    "all_sentences = list(bigram[all_sentences])"
   ]
  },
  {
   "cell_type": "code",
   "execution_count": 36,
   "id": "fe11cf88-efe0-4edc-8586-2a5ff2e4c7e6",
   "metadata": {},
   "outputs": [
    {
     "ename": "NameError",
     "evalue": "name 'model' is not defined",
     "output_type": "error",
     "traceback": [
      "\u001b[0;31m---------------------------------------------------------------------------\u001b[0m",
      "\u001b[0;31mNameError\u001b[0m                                 Traceback (most recent call last)",
      "\u001b[0;32m<ipython-input-36-4a4da0f5f14c>\u001b[0m in \u001b[0;36m<module>\u001b[0;34m\u001b[0m\n\u001b[0;32m----> 1\u001b[0;31m \u001b[0mmodel\u001b[0m\u001b[0;34m.\u001b[0m\u001b[0mwv\u001b[0m\u001b[0;34m.\u001b[0m\u001b[0msave_word2vec_format\u001b[0m\u001b[0;34m(\u001b[0m\u001b[0;34m'model.txt'\u001b[0m\u001b[0;34m,\u001b[0m \u001b[0mbinary\u001b[0m\u001b[0;34m=\u001b[0m\u001b[0;32mFalse\u001b[0m\u001b[0;34m)\u001b[0m\u001b[0;34m\u001b[0m\u001b[0;34m\u001b[0m\u001b[0m\n\u001b[0m",
      "\u001b[0;31mNameError\u001b[0m: name 'model' is not defined"
     ]
    }
   ],
   "source": [
    "model.wv.save_word2vec_format('model.txt', binary=False)"
   ]
  },
  {
   "cell_type": "code",
   "execution_count": 14,
   "id": "98271b31-7257-49ca-a129-7c95dfeb47fe",
   "metadata": {},
   "outputs": [
    {
     "name": "stderr",
     "output_type": "stream",
     "text": [
      "2022-04-04 20:51:17,750 : INFO : loading Word2Vec object from ca10model.npy\n"
     ]
    },
    {
     "ename": "UnpicklingError",
     "evalue": "STACK_GLOBAL requires str",
     "output_type": "error",
     "traceback": [
      "\u001b[0;31m---------------------------------------------------------------------------\u001b[0m",
      "\u001b[0;31mUnpicklingError\u001b[0m                           Traceback (most recent call last)",
      "\u001b[0;32m<ipython-input-14-d491c62bbca3>\u001b[0m in \u001b[0;36m<module>\u001b[0;34m\u001b[0m\n\u001b[0;32m----> 1\u001b[0;31m \u001b[0mmodel\u001b[0m \u001b[0;34m=\u001b[0m \u001b[0mWord2Vec\u001b[0m\u001b[0;34m.\u001b[0m\u001b[0mload\u001b[0m\u001b[0;34m(\u001b[0m\u001b[0;34m\"ca10model.npy\"\u001b[0m\u001b[0;34m)\u001b[0m\u001b[0;34m\u001b[0m\u001b[0;34m\u001b[0m\u001b[0m\n\u001b[0m",
      "\u001b[0;32m/opt/anaconda3/lib/python3.8/site-packages/gensim/models/word2vec.py\u001b[0m in \u001b[0;36mload\u001b[0;34m(cls, rethrow, *args, **kwargs)\u001b[0m\n\u001b[1;32m   1928\u001b[0m         \"\"\"\n\u001b[1;32m   1929\u001b[0m         \u001b[0;32mtry\u001b[0m\u001b[0;34m:\u001b[0m\u001b[0;34m\u001b[0m\u001b[0;34m\u001b[0m\u001b[0m\n\u001b[0;32m-> 1930\u001b[0;31m             \u001b[0mmodel\u001b[0m \u001b[0;34m=\u001b[0m \u001b[0msuper\u001b[0m\u001b[0;34m(\u001b[0m\u001b[0mWord2Vec\u001b[0m\u001b[0;34m,\u001b[0m \u001b[0mcls\u001b[0m\u001b[0;34m)\u001b[0m\u001b[0;34m.\u001b[0m\u001b[0mload\u001b[0m\u001b[0;34m(\u001b[0m\u001b[0;34m*\u001b[0m\u001b[0margs\u001b[0m\u001b[0;34m,\u001b[0m \u001b[0;34m**\u001b[0m\u001b[0mkwargs\u001b[0m\u001b[0;34m)\u001b[0m\u001b[0;34m\u001b[0m\u001b[0;34m\u001b[0m\u001b[0m\n\u001b[0m\u001b[1;32m   1931\u001b[0m             \u001b[0;32mif\u001b[0m \u001b[0;32mnot\u001b[0m \u001b[0misinstance\u001b[0m\u001b[0;34m(\u001b[0m\u001b[0mmodel\u001b[0m\u001b[0;34m,\u001b[0m \u001b[0mWord2Vec\u001b[0m\u001b[0;34m)\u001b[0m\u001b[0;34m:\u001b[0m\u001b[0;34m\u001b[0m\u001b[0;34m\u001b[0m\u001b[0m\n\u001b[1;32m   1932\u001b[0m                 \u001b[0mrethrow\u001b[0m \u001b[0;34m=\u001b[0m \u001b[0;32mTrue\u001b[0m\u001b[0;34m\u001b[0m\u001b[0;34m\u001b[0m\u001b[0m\n",
      "\u001b[0;32m/opt/anaconda3/lib/python3.8/site-packages/gensim/utils.py\u001b[0m in \u001b[0;36mload\u001b[0;34m(cls, fname, mmap)\u001b[0m\n\u001b[1;32m    483\u001b[0m         \u001b[0mcompress\u001b[0m\u001b[0;34m,\u001b[0m \u001b[0msubname\u001b[0m \u001b[0;34m=\u001b[0m \u001b[0mSaveLoad\u001b[0m\u001b[0;34m.\u001b[0m\u001b[0m_adapt_by_suffix\u001b[0m\u001b[0;34m(\u001b[0m\u001b[0mfname\u001b[0m\u001b[0;34m)\u001b[0m\u001b[0;34m\u001b[0m\u001b[0;34m\u001b[0m\u001b[0m\n\u001b[1;32m    484\u001b[0m \u001b[0;34m\u001b[0m\u001b[0m\n\u001b[0;32m--> 485\u001b[0;31m         \u001b[0mobj\u001b[0m \u001b[0;34m=\u001b[0m \u001b[0munpickle\u001b[0m\u001b[0;34m(\u001b[0m\u001b[0mfname\u001b[0m\u001b[0;34m)\u001b[0m\u001b[0;34m\u001b[0m\u001b[0;34m\u001b[0m\u001b[0m\n\u001b[0m\u001b[1;32m    486\u001b[0m         \u001b[0mobj\u001b[0m\u001b[0;34m.\u001b[0m\u001b[0m_load_specials\u001b[0m\u001b[0;34m(\u001b[0m\u001b[0mfname\u001b[0m\u001b[0;34m,\u001b[0m \u001b[0mmmap\u001b[0m\u001b[0;34m,\u001b[0m \u001b[0mcompress\u001b[0m\u001b[0;34m,\u001b[0m \u001b[0msubname\u001b[0m\u001b[0;34m)\u001b[0m\u001b[0;34m\u001b[0m\u001b[0;34m\u001b[0m\u001b[0m\n\u001b[1;32m    487\u001b[0m         \u001b[0mobj\u001b[0m\u001b[0;34m.\u001b[0m\u001b[0madd_lifecycle_event\u001b[0m\u001b[0;34m(\u001b[0m\u001b[0;34m\"loaded\"\u001b[0m\u001b[0;34m,\u001b[0m \u001b[0mfname\u001b[0m\u001b[0;34m=\u001b[0m\u001b[0mfname\u001b[0m\u001b[0;34m)\u001b[0m\u001b[0;34m\u001b[0m\u001b[0;34m\u001b[0m\u001b[0m\n",
      "\u001b[0;32m/opt/anaconda3/lib/python3.8/site-packages/gensim/utils.py\u001b[0m in \u001b[0;36munpickle\u001b[0;34m(fname)\u001b[0m\n\u001b[1;32m   1458\u001b[0m     \"\"\"\n\u001b[1;32m   1459\u001b[0m     \u001b[0;32mwith\u001b[0m \u001b[0mopen\u001b[0m\u001b[0;34m(\u001b[0m\u001b[0mfname\u001b[0m\u001b[0;34m,\u001b[0m \u001b[0;34m'rb'\u001b[0m\u001b[0;34m)\u001b[0m \u001b[0;32mas\u001b[0m \u001b[0mf\u001b[0m\u001b[0;34m:\u001b[0m\u001b[0;34m\u001b[0m\u001b[0;34m\u001b[0m\u001b[0m\n\u001b[0;32m-> 1460\u001b[0;31m         \u001b[0;32mreturn\u001b[0m \u001b[0m_pickle\u001b[0m\u001b[0;34m.\u001b[0m\u001b[0mload\u001b[0m\u001b[0;34m(\u001b[0m\u001b[0mf\u001b[0m\u001b[0;34m,\u001b[0m \u001b[0mencoding\u001b[0m\u001b[0;34m=\u001b[0m\u001b[0;34m'latin1'\u001b[0m\u001b[0;34m)\u001b[0m  \u001b[0;31m# needed because loading from S3 doesn't support readline()\u001b[0m\u001b[0;34m\u001b[0m\u001b[0;34m\u001b[0m\u001b[0m\n\u001b[0m\u001b[1;32m   1461\u001b[0m \u001b[0;34m\u001b[0m\u001b[0m\n\u001b[1;32m   1462\u001b[0m \u001b[0;34m\u001b[0m\u001b[0m\n",
      "\u001b[0;31mUnpicklingError\u001b[0m: STACK_GLOBAL requires str"
     ]
    }
   ],
   "source": [
    "model = Word2Vec.load(\"ca10model.npy\")"
   ]
  },
  {
   "cell_type": "code",
   "execution_count": 5,
   "id": "a11b40a9-9596-4f4b-8a5b-576b81bec7c6",
   "metadata": {},
   "outputs": [
    {
     "name": "stderr",
     "output_type": "stream",
     "text": [
      "2022-04-04 20:44:57,708 : INFO : loading Word2Vec object from ca10model.npy\n"
     ]
    },
    {
     "ename": "UnpicklingError",
     "evalue": "STACK_GLOBAL requires str",
     "output_type": "error",
     "traceback": [
      "\u001b[0;31m---------------------------------------------------------------------------\u001b[0m",
      "\u001b[0;31mUnpicklingError\u001b[0m                           Traceback (most recent call last)",
      "\u001b[0;32m<ipython-input-5-abdd5b66ac29>\u001b[0m in \u001b[0;36m<module>\u001b[0;34m\u001b[0m\n\u001b[0;32m----> 1\u001b[0;31m \u001b[0mWord2Vec\u001b[0m\u001b[0;34m.\u001b[0m\u001b[0mload\u001b[0m\u001b[0;34m(\u001b[0m\u001b[0;34m\"ca10model.npy\"\u001b[0m\u001b[0;34m)\u001b[0m\u001b[0;34m\u001b[0m\u001b[0;34m\u001b[0m\u001b[0m\n\u001b[0m",
      "\u001b[0;32m/opt/anaconda3/lib/python3.8/site-packages/gensim/models/word2vec.py\u001b[0m in \u001b[0;36mload\u001b[0;34m(cls, rethrow, *args, **kwargs)\u001b[0m\n\u001b[1;32m   1928\u001b[0m         \"\"\"\n\u001b[1;32m   1929\u001b[0m         \u001b[0;32mtry\u001b[0m\u001b[0;34m:\u001b[0m\u001b[0;34m\u001b[0m\u001b[0;34m\u001b[0m\u001b[0m\n\u001b[0;32m-> 1930\u001b[0;31m             \u001b[0mmodel\u001b[0m \u001b[0;34m=\u001b[0m \u001b[0msuper\u001b[0m\u001b[0;34m(\u001b[0m\u001b[0mWord2Vec\u001b[0m\u001b[0;34m,\u001b[0m \u001b[0mcls\u001b[0m\u001b[0;34m)\u001b[0m\u001b[0;34m.\u001b[0m\u001b[0mload\u001b[0m\u001b[0;34m(\u001b[0m\u001b[0;34m*\u001b[0m\u001b[0margs\u001b[0m\u001b[0;34m,\u001b[0m \u001b[0;34m**\u001b[0m\u001b[0mkwargs\u001b[0m\u001b[0;34m)\u001b[0m\u001b[0;34m\u001b[0m\u001b[0;34m\u001b[0m\u001b[0m\n\u001b[0m\u001b[1;32m   1931\u001b[0m             \u001b[0;32mif\u001b[0m \u001b[0;32mnot\u001b[0m \u001b[0misinstance\u001b[0m\u001b[0;34m(\u001b[0m\u001b[0mmodel\u001b[0m\u001b[0;34m,\u001b[0m \u001b[0mWord2Vec\u001b[0m\u001b[0;34m)\u001b[0m\u001b[0;34m:\u001b[0m\u001b[0;34m\u001b[0m\u001b[0;34m\u001b[0m\u001b[0m\n\u001b[1;32m   1932\u001b[0m                 \u001b[0mrethrow\u001b[0m \u001b[0;34m=\u001b[0m \u001b[0;32mTrue\u001b[0m\u001b[0;34m\u001b[0m\u001b[0;34m\u001b[0m\u001b[0m\n",
      "\u001b[0;32m/opt/anaconda3/lib/python3.8/site-packages/gensim/utils.py\u001b[0m in \u001b[0;36mload\u001b[0;34m(cls, fname, mmap)\u001b[0m\n\u001b[1;32m    483\u001b[0m         \u001b[0mcompress\u001b[0m\u001b[0;34m,\u001b[0m \u001b[0msubname\u001b[0m \u001b[0;34m=\u001b[0m \u001b[0mSaveLoad\u001b[0m\u001b[0;34m.\u001b[0m\u001b[0m_adapt_by_suffix\u001b[0m\u001b[0;34m(\u001b[0m\u001b[0mfname\u001b[0m\u001b[0;34m)\u001b[0m\u001b[0;34m\u001b[0m\u001b[0;34m\u001b[0m\u001b[0m\n\u001b[1;32m    484\u001b[0m \u001b[0;34m\u001b[0m\u001b[0m\n\u001b[0;32m--> 485\u001b[0;31m         \u001b[0mobj\u001b[0m \u001b[0;34m=\u001b[0m \u001b[0munpickle\u001b[0m\u001b[0;34m(\u001b[0m\u001b[0mfname\u001b[0m\u001b[0;34m)\u001b[0m\u001b[0;34m\u001b[0m\u001b[0;34m\u001b[0m\u001b[0m\n\u001b[0m\u001b[1;32m    486\u001b[0m         \u001b[0mobj\u001b[0m\u001b[0;34m.\u001b[0m\u001b[0m_load_specials\u001b[0m\u001b[0;34m(\u001b[0m\u001b[0mfname\u001b[0m\u001b[0;34m,\u001b[0m \u001b[0mmmap\u001b[0m\u001b[0;34m,\u001b[0m \u001b[0mcompress\u001b[0m\u001b[0;34m,\u001b[0m \u001b[0msubname\u001b[0m\u001b[0;34m)\u001b[0m\u001b[0;34m\u001b[0m\u001b[0;34m\u001b[0m\u001b[0m\n\u001b[1;32m    487\u001b[0m         \u001b[0mobj\u001b[0m\u001b[0;34m.\u001b[0m\u001b[0madd_lifecycle_event\u001b[0m\u001b[0;34m(\u001b[0m\u001b[0;34m\"loaded\"\u001b[0m\u001b[0;34m,\u001b[0m \u001b[0mfname\u001b[0m\u001b[0;34m=\u001b[0m\u001b[0mfname\u001b[0m\u001b[0;34m)\u001b[0m\u001b[0;34m\u001b[0m\u001b[0;34m\u001b[0m\u001b[0m\n",
      "\u001b[0;32m/opt/anaconda3/lib/python3.8/site-packages/gensim/utils.py\u001b[0m in \u001b[0;36munpickle\u001b[0;34m(fname)\u001b[0m\n\u001b[1;32m   1458\u001b[0m     \"\"\"\n\u001b[1;32m   1459\u001b[0m     \u001b[0;32mwith\u001b[0m \u001b[0mopen\u001b[0m\u001b[0;34m(\u001b[0m\u001b[0mfname\u001b[0m\u001b[0;34m,\u001b[0m \u001b[0;34m'rb'\u001b[0m\u001b[0;34m)\u001b[0m \u001b[0;32mas\u001b[0m \u001b[0mf\u001b[0m\u001b[0;34m:\u001b[0m\u001b[0;34m\u001b[0m\u001b[0;34m\u001b[0m\u001b[0m\n\u001b[0;32m-> 1460\u001b[0;31m         \u001b[0;32mreturn\u001b[0m \u001b[0m_pickle\u001b[0m\u001b[0;34m.\u001b[0m\u001b[0mload\u001b[0m\u001b[0;34m(\u001b[0m\u001b[0mf\u001b[0m\u001b[0;34m,\u001b[0m \u001b[0mencoding\u001b[0m\u001b[0;34m=\u001b[0m\u001b[0;34m'latin1'\u001b[0m\u001b[0;34m)\u001b[0m  \u001b[0;31m# needed because loading from S3 doesn't support readline()\u001b[0m\u001b[0;34m\u001b[0m\u001b[0;34m\u001b[0m\u001b[0m\n\u001b[0m\u001b[1;32m   1461\u001b[0m \u001b[0;34m\u001b[0m\u001b[0m\n\u001b[1;32m   1462\u001b[0m \u001b[0;34m\u001b[0m\u001b[0m\n",
      "\u001b[0;31mUnpicklingError\u001b[0m: STACK_GLOBAL requires str"
     ]
    }
   ],
   "source": [
    "Word2Vec.load(\"ca10model.npy\")"
   ]
  }
 ],
 "metadata": {
  "kernelspec": {
   "display_name": "Python 3",
   "language": "python",
   "name": "python3"
  },
  "language_info": {
   "codemirror_mode": {
    "name": "ipython",
    "version": 3
   },
   "file_extension": ".py",
   "mimetype": "text/x-python",
   "name": "python",
   "nbconvert_exporter": "python",
   "pygments_lexer": "ipython3",
   "version": "3.8.8"
  }
 },
 "nbformat": 4,
 "nbformat_minor": 5
}
